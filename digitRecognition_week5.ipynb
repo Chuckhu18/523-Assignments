{
 "cells": [
  {
   "cell_type": "markdown",
   "metadata": {
    "colab_type": "text",
    "id": "79BYVJ5GTMa3"
   },
   "source": [
    "**EEP523 Spring 2020. Mobile Applications for Sensing and Control**\n",
    "\n",
    "*April 30th, 2020*\n",
    "\n",
    "**Week 5: Introduction to CNN with TensorFlow Lite for Android**\n",
    "\n",
    "---\n",
    "# Android App for Handwritten digit recognition\n",
    "---\n",
    "\n",
    "In this class activity, you will build and train a convolutional neural network (CNN) for classification of digits from the well-known MNIST dataset.\n",
    "\n",
    "Then, you will incorporate that model into an Android App to perform\n",
    "handwritten digits recognition.\n",
    "\n",
    "Training is much faster using GPU acceleration. Before you proceed, ensure you are using a GPU runtime by going to Runtime -> Change runtime type and selecting GPU. Training will take around 5 minutes on a GPU runtime.\n"
   ]
  },
  {
   "cell_type": "markdown",
   "metadata": {
    "colab_type": "text",
    "id": "VlqOAHaaHpET"
   },
   "source": [
    "We’ll be creating our model inside of a Jupyter notebook, which permits us to do awesome things to visualize our data during development. This includes displaying graphs that show our model’s accuracy and convergence. To run our notebook we’ll use a tool called Colaboratory, or Colab for short. Colab is made by Google, and it provides an online environment for running Jupyter notebooks. It’s provided for free as a tool to encourage research and development in machine learning."
   ]
  },
  {
   "cell_type": "code",
   "execution_count": 1,
   "metadata": {
    "colab": {
     "base_uri": "https://localhost:8080/",
     "height": 38
    },
    "colab_type": "code",
    "id": "KtzSbnBDhDVC",
    "outputId": "0c4c06da-3ba8-46e7-cc07-52429579b148"
   },
   "outputs": [
    {
     "data": {
      "text/html": [
       "<marquee style='width: 30%; color: blue;'><b>TIME TO WORK !!</b></marquee>\n"
      ],
      "text/plain": [
       "<IPython.core.display.HTML object>"
      ]
     },
     "metadata": {},
     "output_type": "display_data"
    }
   ],
   "source": [
    "%%html\n",
    "<marquee style='width: 30%; color: blue;'><b>TIME TO WORK !!</b></marquee>"
   ]
  },
  {
   "cell_type": "markdown",
   "metadata": {},
   "source": [
    "### Group 5 Members\n",
    "Dannis Du\n",
    "\n",
    "Plinio Barreto\n",
    "\n",
    "Chuck Hu"
   ]
  },
  {
   "cell_type": "markdown",
   "metadata": {
    "colab_type": "text",
    "id": "ej4yau8dKsBl"
   },
   "source": [
    "# Part 1: Simple Neural Network "
   ]
  },
  {
   "cell_type": "markdown",
   "metadata": {
    "colab_type": "text",
    "id": "rgoDdUmTMZNq"
   },
   "source": [
    "**1.1 Prepare the training data**"
   ]
  },
  {
   "cell_type": "markdown",
   "metadata": {
    "colab_type": "text",
    "id": "sODgHkrATcn4"
   },
   "source": [
    "\n",
    "\n",
    "In the first portion of this lab, we will build and train a convolutional neural network (CNN) for classification of handwritten digits from the famous MNIST dataset. The MNIST dataset consists of 60,000 training images and 10,000 test images. Our classes are the digits 0-9.\n",
    "\n",
    "First, let's download the course repository, install dependencies"
   ]
  },
  {
   "cell_type": "code",
   "execution_count": 3,
   "metadata": {
    "scrolled": true
   },
   "outputs": [
    {
     "name": "stdout",
     "output_type": "stream",
     "text": [
      "Collecting tensorflow\n",
      "  Downloading https://files.pythonhosted.org/packages/34/d5/ce8c17971067c0184c9045112b755be5461d5ce5253ef65a367e1298d7c5/tensorflow-2.1.0-cp37-cp37m-win_amd64.whl (355.8MB)\n",
      "Requirement already satisfied, skipping upgrade: wheel>=0.26; python_version >= \"3\" in d:\\anaconda3\\lib\\site-packages (from tensorflow) (0.33.6)\n",
      "Requirement already satisfied, skipping upgrade: gast==0.2.2 in d:\\anaconda3\\lib\\site-packages (from tensorflow) (0.2.2)\n",
      "Requirement already satisfied, skipping upgrade: keras-preprocessing>=1.1.0 in d:\\anaconda3\\lib\\site-packages (from tensorflow) (1.1.0)\n",
      "Collecting tensorboard<2.2.0,>=2.1.0 (from tensorflow)\n",
      "  Downloading https://files.pythonhosted.org/packages/d9/41/bbf49b61370e4f4d245d4c6051dfb6db80cec672605c91b1652ac8cc3d38/tensorboard-2.1.1-py3-none-any.whl (3.8MB)\n",
      "Requirement already satisfied, skipping upgrade: opt-einsum>=2.3.2 in d:\\anaconda3\\lib\\site-packages (from tensorflow) (3.1.0)\n",
      "Requirement already satisfied, skipping upgrade: astor>=0.6.0 in d:\\anaconda3\\lib\\site-packages (from tensorflow) (0.8.1)\n",
      "Collecting scipy==1.4.1; python_version >= \"3\" (from tensorflow)\n",
      "  Downloading https://files.pythonhosted.org/packages/61/51/046cbc61c7607e5ecead6ff1a9453fba5e7e47a5ea8d608cc7036586a5ef/scipy-1.4.1-cp37-cp37m-win_amd64.whl (30.9MB)\n",
      "Requirement already satisfied, skipping upgrade: google-pasta>=0.1.6 in d:\\anaconda3\\lib\\site-packages (from tensorflow) (0.1.8)\n",
      "Requirement already satisfied, skipping upgrade: protobuf>=3.8.0 in d:\\anaconda3\\lib\\site-packages (from tensorflow) (3.11.3)\n",
      "Requirement already satisfied, skipping upgrade: termcolor>=1.1.0 in d:\\anaconda3\\lib\\site-packages (from tensorflow) (1.1.0)\n",
      "Requirement already satisfied, skipping upgrade: six>=1.12.0 in d:\\anaconda3\\lib\\site-packages (from tensorflow) (1.12.0)\n",
      "Requirement already satisfied, skipping upgrade: grpcio>=1.8.6 in d:\\anaconda3\\lib\\site-packages (from tensorflow) (1.27.2)\n",
      "Requirement already satisfied, skipping upgrade: absl-py>=0.7.0 in d:\\anaconda3\\lib\\site-packages (from tensorflow) (0.9.0)\n",
      "Collecting tensorflow-estimator<2.2.0,>=2.1.0rc0 (from tensorflow)\n",
      "  Downloading https://files.pythonhosted.org/packages/18/90/b77c328a1304437ab1310b463e533fa7689f4bfc41549593056d812fab8e/tensorflow_estimator-2.1.0-py2.py3-none-any.whl (448kB)\n",
      "Requirement already satisfied, skipping upgrade: keras-applications>=1.0.8 in d:\\anaconda3\\lib\\site-packages (from tensorflow) (1.0.8)\n",
      "Requirement already satisfied, skipping upgrade: wrapt>=1.11.1 in d:\\anaconda3\\lib\\site-packages (from tensorflow) (1.11.2)\n",
      "Requirement already satisfied, skipping upgrade: numpy<2.0,>=1.16.0 in d:\\anaconda3\\lib\\site-packages (from tensorflow) (1.16.5)\n",
      "Collecting google-auth-oauthlib<0.5,>=0.4.1 (from tensorboard<2.2.0,>=2.1.0->tensorflow)\n",
      "  Downloading https://files.pythonhosted.org/packages/7b/b8/88def36e74bee9fce511c9519571f4e485e890093ab7442284f4ffaef60b/google_auth_oauthlib-0.4.1-py2.py3-none-any.whl\n",
      "Requirement already satisfied, skipping upgrade: requests<3,>=2.21.0 in d:\\anaconda3\\lib\\site-packages (from tensorboard<2.2.0,>=2.1.0->tensorflow) (2.22.0)\n",
      "Requirement already satisfied, skipping upgrade: setuptools>=41.0.0 in d:\\anaconda3\\lib\\site-packages (from tensorboard<2.2.0,>=2.1.0->tensorflow) (41.4.0)\n",
      "Requirement already satisfied, skipping upgrade: werkzeug>=0.11.15 in d:\\anaconda3\\lib\\site-packages (from tensorboard<2.2.0,>=2.1.0->tensorflow) (0.16.0)\n",
      "Collecting google-auth<2,>=1.6.3 (from tensorboard<2.2.0,>=2.1.0->tensorflow)\n",
      "  Downloading https://files.pythonhosted.org/packages/d2/f8/1623d69e5de22e499b68a0cb5e5d02cd6a2843e55acc19f314f48fe04299/google_auth-1.14.1-py2.py3-none-any.whl (89kB)\n",
      "Requirement already satisfied, skipping upgrade: markdown>=2.6.8 in d:\\anaconda3\\lib\\site-packages (from tensorboard<2.2.0,>=2.1.0->tensorflow) (3.2.1)\n",
      "Requirement already satisfied, skipping upgrade: h5py in d:\\anaconda3\\lib\\site-packages (from keras-applications>=1.0.8->tensorflow) (2.9.0)\n",
      "Collecting requests-oauthlib>=0.7.0 (from google-auth-oauthlib<0.5,>=0.4.1->tensorboard<2.2.0,>=2.1.0->tensorflow)\n",
      "  Downloading https://files.pythonhosted.org/packages/a3/12/b92740d845ab62ea4edf04d2f4164d82532b5a0b03836d4d4e71c6f3d379/requests_oauthlib-1.3.0-py2.py3-none-any.whl\n",
      "Requirement already satisfied, skipping upgrade: idna<2.9,>=2.5 in d:\\anaconda3\\lib\\site-packages (from requests<3,>=2.21.0->tensorboard<2.2.0,>=2.1.0->tensorflow) (2.8)\n",
      "Requirement already satisfied, skipping upgrade: certifi>=2017.4.17 in d:\\anaconda3\\lib\\site-packages (from requests<3,>=2.21.0->tensorboard<2.2.0,>=2.1.0->tensorflow) (2019.9.11)\n",
      "Requirement already satisfied, skipping upgrade: chardet<3.1.0,>=3.0.2 in d:\\anaconda3\\lib\\site-packages (from requests<3,>=2.21.0->tensorboard<2.2.0,>=2.1.0->tensorflow) (3.0.4)\n",
      "Requirement already satisfied, skipping upgrade: urllib3!=1.25.0,!=1.25.1,<1.26,>=1.21.1 in d:\\anaconda3\\lib\\site-packages (from requests<3,>=2.21.0->tensorboard<2.2.0,>=2.1.0->tensorflow) (1.24.2)\n",
      "Collecting pyasn1-modules>=0.2.1 (from google-auth<2,>=1.6.3->tensorboard<2.2.0,>=2.1.0->tensorflow)\n",
      "  Downloading https://files.pythonhosted.org/packages/95/de/214830a981892a3e286c3794f41ae67a4495df1108c3da8a9f62159b9a9d/pyasn1_modules-0.2.8-py2.py3-none-any.whl (155kB)\n",
      "Collecting cachetools<5.0,>=2.0.0 (from google-auth<2,>=1.6.3->tensorboard<2.2.0,>=2.1.0->tensorflow)\n",
      "  Downloading https://files.pythonhosted.org/packages/b3/59/524ffb454d05001e2be74c14745b485681c6ed5f2e625f71d135704c0909/cachetools-4.1.0-py3-none-any.whl\n",
      "Collecting rsa<4.1,>=3.1.4 (from google-auth<2,>=1.6.3->tensorboard<2.2.0,>=2.1.0->tensorflow)\n",
      "  Downloading https://files.pythonhosted.org/packages/02/e5/38518af393f7c214357079ce67a317307936896e961e35450b70fad2a9cf/rsa-4.0-py2.py3-none-any.whl\n",
      "Collecting oauthlib>=3.0.0 (from requests-oauthlib>=0.7.0->google-auth-oauthlib<0.5,>=0.4.1->tensorboard<2.2.0,>=2.1.0->tensorflow)\n",
      "  Downloading https://files.pythonhosted.org/packages/05/57/ce2e7a8fa7c0afb54a0581b14a65b56e62b5759dbc98e80627142b8a3704/oauthlib-3.1.0-py2.py3-none-any.whl (147kB)\n",
      "Collecting pyasn1<0.5.0,>=0.4.6 (from pyasn1-modules>=0.2.1->google-auth<2,>=1.6.3->tensorboard<2.2.0,>=2.1.0->tensorflow)\n",
      "  Downloading https://files.pythonhosted.org/packages/62/1e/a94a8d635fa3ce4cfc7f506003548d0a2447ae76fd5ca53932970fe3053f/pyasn1-0.4.8-py2.py3-none-any.whl (77kB)\n",
      "Installing collected packages: pyasn1, pyasn1-modules, cachetools, rsa, google-auth, oauthlib, requests-oauthlib, google-auth-oauthlib, tensorboard, scipy, tensorflow-estimator, tensorflow\n",
      "  Found existing installation: tensorboard 1.15.0\n",
      "    Uninstalling tensorboard-1.15.0:\n",
      "      Successfully uninstalled tensorboard-1.15.0\n",
      "  Found existing installation: scipy 1.3.1\n",
      "    Uninstalling scipy-1.3.1:\n",
      "      Successfully uninstalled scipy-1.3.1\n",
      "  Found existing installation: tensorflow-estimator 1.15.1\n",
      "    Uninstalling tensorflow-estimator-1.15.1:\n",
      "      Successfully uninstalled tensorflow-estimator-1.15.1\n",
      "  Found existing installation: tensorflow 1.15.0\n",
      "    Uninstalling tensorflow-1.15.0:\n",
      "      Successfully uninstalled tensorflow-1.15.0\n",
      "Successfully installed cachetools-4.1.0 google-auth-1.14.1 google-auth-oauthlib-0.4.1 oauthlib-3.1.0 pyasn1-0.4.8 pyasn1-modules-0.2.8 requests-oauthlib-1.3.0 rsa-4.0 scipy-1.4.1 tensorboard-2.1.1 tensorflow-2.1.0 tensorflow-estimator-2.1.0\n",
      "Note: you may need to restart the kernel to use updated packages.\n"
     ]
    }
   ],
   "source": [
    "pip install --upgrade tensorflow"
   ]
  },
  {
   "cell_type": "code",
   "execution_count": 46,
   "metadata": {
    "scrolled": true
   },
   "outputs": [
    {
     "name": "stdout",
     "output_type": "stream",
     "text": [
      "Collecting tensorflow-gpu\n",
      "  Using cached https://files.pythonhosted.org/packages/a3/4c/87b658692746d66dfe687f3e0fe33ee58248f388961d2fdbc851b6c1d604/tensorflow_gpu-2.1.0-cp37-cp37m-win_amd64.whl\n",
      "Requirement already satisfied: absl-py>=0.7.0 in d:\\anaconda3\\lib\\site-packages (from tensorflow-gpu) (0.9.0)\n",
      "Requirement already satisfied: tensorboard<2.2.0,>=2.1.0 in d:\\anaconda3\\lib\\site-packages (from tensorflow-gpu) (2.1.1)\n",
      "Requirement already satisfied: protobuf>=3.8.0 in d:\\anaconda3\\lib\\site-packages (from tensorflow-gpu) (3.11.3)\n",
      "Requirement already satisfied: grpcio>=1.8.6 in d:\\anaconda3\\lib\\site-packages (from tensorflow-gpu) (1.27.2)\n",
      "Requirement already satisfied: keras-preprocessing>=1.1.0 in d:\\anaconda3\\lib\\site-packages (from tensorflow-gpu) (1.1.0)\n",
      "Requirement already satisfied: opt-einsum>=2.3.2 in d:\\anaconda3\\lib\\site-packages (from tensorflow-gpu) (3.1.0)\n",
      "Requirement already satisfied: tensorflow-gpu-estimator<2.2.0,>=2.1.0rc0 in d:\\anaconda3\\lib\\site-packages (from tensorflow-gpu) (2.1.0)\n",
      "Requirement already satisfied: termcolor>=1.1.0 in d:\\anaconda3\\lib\\site-packages (from tensorflow-gpu) (1.1.0)\n",
      "Requirement already satisfied: scipy==1.4.1; python_version >= \"3\" in d:\\anaconda3\\lib\\site-packages (from tensorflow-gpu) (1.4.1)\n",
      "Requirement already satisfied: google-pasta>=0.1.6 in d:\\anaconda3\\lib\\site-packages (from tensorflow-gpu) (0.1.8)\n",
      "Requirement already satisfied: wheel>=0.26; python_version >= \"3\" in d:\\anaconda3\\lib\\site-packages (from tensorflow-gpu) (0.33.6)\n",
      "Requirement already satisfied: numpy<2.0,>=1.16.0 in d:\\anaconda3\\lib\\site-packages (from tensorflow-gpu) (1.16.5)\n",
      "Requirement already satisfied: six>=1.12.0 in d:\\anaconda3\\lib\\site-packages (from tensorflow-gpu) (1.12.0)\n",
      "Requirement already satisfied: astor>=0.6.0 in d:\\anaconda3\\lib\\site-packages (from tensorflow-gpu) (0.8.1)\n",
      "Requirement already satisfied: keras-applications>=1.0.8 in d:\\anaconda3\\lib\\site-packages (from tensorflow-gpu) (1.0.8)\n",
      "Requirement already satisfied: wrapt>=1.11.1 in d:\\anaconda3\\lib\\site-packages (from tensorflow-gpu) (1.11.2)\n",
      "Requirement already satisfied: gast==0.2.2 in d:\\anaconda3\\lib\\site-packages (from tensorflow-gpu) (0.2.2)\n",
      "Requirement already satisfied: requests<3,>=2.21.0 in d:\\anaconda3\\lib\\site-packages (from tensorboard<2.2.0,>=2.1.0->tensorflow-gpu) (2.22.0)\n",
      "Requirement already satisfied: markdown>=2.6.8 in d:\\anaconda3\\lib\\site-packages (from tensorboard<2.2.0,>=2.1.0->tensorflow-gpu) (3.2.1)\n",
      "Requirement already satisfied: werkzeug>=0.11.15 in d:\\anaconda3\\lib\\site-packages (from tensorboard<2.2.0,>=2.1.0->tensorflow-gpu) (0.16.0)\n",
      "Requirement already satisfied: google-auth-oauthlib<0.5,>=0.4.1 in d:\\anaconda3\\lib\\site-packages (from tensorboard<2.2.0,>=2.1.0->tensorflow-gpu) (0.4.1)\n",
      "Requirement already satisfied: setuptools>=41.0.0 in d:\\anaconda3\\lib\\site-packages (from tensorboard<2.2.0,>=2.1.0->tensorflow-gpu) (41.4.0)\n",
      "Requirement already satisfied: google-auth<2,>=1.6.3 in d:\\anaconda3\\lib\\site-packages (from tensorboard<2.2.0,>=2.1.0->tensorflow-gpu) (1.14.1)\n",
      "Requirement already satisfied: h5py in d:\\anaconda3\\lib\\site-packages (from keras-applications>=1.0.8->tensorflow-gpu) (2.9.0)\n",
      "Requirement already satisfied: chardet<3.1.0,>=3.0.2 in d:\\anaconda3\\lib\\site-packages (from requests<3,>=2.21.0->tensorboard<2.2.0,>=2.1.0->tensorflow-gpu) (3.0.4)\n",
      "Requirement already satisfied: certifi>=2017.4.17 in d:\\anaconda3\\lib\\site-packages (from requests<3,>=2.21.0->tensorboard<2.2.0,>=2.1.0->tensorflow-gpu) (2019.9.11)\n",
      "Requirement already satisfied: urllib3!=1.25.0,!=1.25.1,<1.26,>=1.21.1 in d:\\anaconda3\\lib\\site-packages (from requests<3,>=2.21.0->tensorboard<2.2.0,>=2.1.0->tensorflow-gpu) (1.24.2)\n",
      "Requirement already satisfied: idna<2.9,>=2.5 in d:\\anaconda3\\lib\\site-packages (from requests<3,>=2.21.0->tensorboard<2.2.0,>=2.1.0->tensorflow-gpu) (2.8)\n",
      "Requirement already satisfied: requests-oauthlib>=0.7.0 in d:\\anaconda3\\lib\\site-packages (from google-auth-oauthlib<0.5,>=0.4.1->tensorboard<2.2.0,>=2.1.0->tensorflow-gpu) (1.3.0)\n",
      "Requirement already satisfied: pyasn1-modules>=0.2.1 in d:\\anaconda3\\lib\\site-packages (from google-auth<2,>=1.6.3->tensorboard<2.2.0,>=2.1.0->tensorflow-gpu) (0.2.8)\n",
      "Requirement already satisfied: cachetools<5.0,>=2.0.0 in d:\\anaconda3\\lib\\site-packages (from google-auth<2,>=1.6.3->tensorboard<2.2.0,>=2.1.0->tensorflow-gpu) (4.1.0)\n",
      "Requirement already satisfied: rsa<4.1,>=3.1.4 in d:\\anaconda3\\lib\\site-packages (from google-auth<2,>=1.6.3->tensorboard<2.2.0,>=2.1.0->tensorflow-gpu) (4.0)\n",
      "Requirement already satisfied: oauthlib>=3.0.0 in d:\\anaconda3\\lib\\site-packages (from requests-oauthlib>=0.7.0->google-auth-oauthlib<0.5,>=0.4.1->tensorboard<2.2.0,>=2.1.0->tensorflow-gpu) (3.1.0)\n",
      "Requirement already satisfied: pyasn1<0.5.0,>=0.4.6 in d:\\anaconda3\\lib\\site-packages (from pyasn1-modules>=0.2.1->google-auth<2,>=1.6.3->tensorboard<2.2.0,>=2.1.0->tensorflow-gpu) (0.4.8)\n",
      "Installing collected packages: tensorflow-gpu\n",
      "Successfully installed tensorflow-gpu-2.1.0\n"
     ]
    },
    {
     "name": "stderr",
     "output_type": "stream",
     "text": [
      "  WARNING: The scripts estimator_ckpt_converter.exe, saved_model_cli.exe, tensorboard.exe, tf_upgrade_v2.exe, tflite_convert.exe, toco.exe and toco_from_protos.exe are installed in 'C:\\Users\\chuck\\AppData\\Roaming\\Python\\Python37\\Scripts' which is not on PATH.\n",
      "  Consider adding this directory to PATH or, if you prefer to suppress this warning, use --no-warn-script-location.\n"
     ]
    },
    {
     "name": "stdout",
     "output_type": "stream",
     "text": [
      "Note: you may need to restart the kernel to use updated packages.\n"
     ]
    }
   ],
   "source": [
    "pip install --user tensorflow-gpu"
   ]
  },
  {
   "cell_type": "code",
   "execution_count": 1,
   "metadata": {},
   "outputs": [
    {
     "name": "stdout",
     "output_type": "stream",
     "text": [
      "[name: \"/device:CPU:0\"\n",
      "device_type: \"CPU\"\n",
      "memory_limit: 268435456\n",
      "locality {\n",
      "}\n",
      "incarnation: 14818721364282232880\n",
      "]\n"
     ]
    }
   ],
   "source": [
    "from tensorflow.python.client import device_lib \n",
    "print(device_lib.list_local_devices())"
   ]
  },
  {
   "cell_type": "code",
   "execution_count": 3,
   "metadata": {
    "colab": {},
    "colab_type": "code",
    "id": "zbMV88sHTpKe"
   },
   "outputs": [],
   "source": [
    "# Import Tensorflow 2.0\n",
    "# %tensorflow_version 2.x\n",
    "import tensorflow as tf\n",
    "import matplotlib.pyplot as plt\n",
    "import numpy as np\n",
    "import random\n",
    "from tqdm import tqdm\n",
    "\n",
    "# Check that we are using a GPU, if not switch runtimes\n",
    "#   using Runtime > Change Runtime Type > GPU\n",
    "# assert len(tf.config.list_physical_devices('GPU')) > 0"
   ]
  },
  {
   "cell_type": "markdown",
   "metadata": {
    "colab_type": "text",
    "id": "WXMOO1b_UswV"
   },
   "source": [
    "Download the MNIST dataset\n",
    "\n",
    "Keras provides a handy API to download the MNIST dataset, and split them into \"train\" dataset and \"test\" dataset.\n",
    "\n",
    "Why do you think that the data values are divided by 255?\n",
    "\n"
   ]
  },
  {
   "cell_type": "code",
   "execution_count": 5,
   "metadata": {
    "colab": {},
    "colab_type": "code",
    "id": "zyV6R1kzUwpy"
   },
   "outputs": [],
   "source": [
    "mnist = tf.keras.datasets.mnist\n",
    "(train_images, train_labels), (test_images, test_labels) = mnist.load_data()\n",
    "train_images = (np.expand_dims(train_images, axis=-1)/255.).astype(np.float32)\n",
    "train_labels = (train_labels).astype(np.int64)\n",
    "test_images = (np.expand_dims(test_images, axis=-1)/255.).astype(np.float32)\n",
    "test_labels = (test_labels).astype(np.int64)"
   ]
  },
  {
   "cell_type": "markdown",
   "metadata": {
    "colab_type": "text",
    "id": "8sJsLX_rVPUm"
   },
   "source": [
    "Our training set is made up of 28x28 grayscale images of handwritten digits. Let's visualize 16 randomnly selected images and their corresponding training labels."
   ]
  },
  {
   "cell_type": "code",
   "execution_count": 6,
   "metadata": {
    "colab": {},
    "colab_type": "code",
    "id": "ErY0PkVFVR3b"
   },
   "outputs": [
    {
     "data": {
      "image/png": "[encoded data removed]",
      "text/plain": [
       "<Figure size 720x720 with 16 Axes>"
      ]
     },
     "metadata": {},
     "output_type": "display_data"
    }
   ],
   "source": [
    "plt.figure(figsize=(10,10))\n",
    "random_inds = np.random.choice(60000,16)\n",
    "for i in range(16):\n",
    "    plt.subplot(4,4,i+1)\n",
    "    plt.xticks([])\n",
    "    plt.yticks([])\n",
    "    plt.grid(False)\n",
    "    image_ind = random_inds[i]\n",
    "    plt.imshow(np.squeeze(train_images[image_ind]), cmap=plt.cm.binary)\n",
    "    plt.xlabel(train_labels[image_ind])"
   ]
  },
  {
   "cell_type": "markdown",
   "metadata": {
    "colab_type": "text",
    "id": "DD8rj91sVmjh"
   },
   "source": [
    "**1.2 Simple Fully connected Neural Network for Handwritten Digit Classification**\n",
    "\n",
    "We'll first build a simple neural network consisting of two fully connected layers and apply this to the digit classification task. Our network will ultimately output a probability distribution over the 10 digit classes (0-9). This first architecture we will be building is depicted below:\n",
    "\n",
    "![alt_text](https://gitlab.cs.washington.edu/arjonal/eep523/raw/6ab437ff42651b65889623bc7b538c4f168f055c/mnist_fig.png?inline=false \"CNN Architecture for MNIST Classification\")\n"
   ]
  },
  {
   "cell_type": "markdown",
   "metadata": {
    "colab_type": "text",
    "id": "RgiMIvGwV2SN"
   },
   "source": [
    "To define the architecture of this first **fully connected neural network**, we'll use the Keras API and define the model using the Sequential class. Note how we first use a Flatten layer, which flattens the input so that it can be fed into the model.\n",
    "\n",
    "\n",
    "The first layer in this network, tf.keras.layers.Flatten, transforms the format of the images from a 2d-array (28 x 28 pixels), to a 1d-array of 28 * 28 = 784 pixels. You can think of this layer as unstacking rows of pixels in the image and lining them up. There are no learned parameters in this layer; it only reformats the data.\n",
    "\n",
    "After the pixels are flattened, the network consists of a sequence of two tf.keras.layers.Dense layers. These are fully-connected neural layers. The first Dense layer has 128 nodes (or neurons). The second (and last) layer (which you've defined!) should return an array of probability scores that sum to 1. Each node contains a score that indicates the probability that the current image belongs to one of the handwritten digit classes.\n",
    "\n",
    "\n"
   ]
  },
  {
   "cell_type": "code",
   "execution_count": 7,
   "metadata": {
    "colab": {},
    "colab_type": "code",
    "id": "KuAcC3AyV_p9"
   },
   "outputs": [],
   "source": [
    "def build_fc_model():\n",
    "  fc_model = tf.keras.Sequential([\n",
    "      # First define a Flatten layer\n",
    "      tf.keras.layers.Flatten(),\n",
    "\n",
    "      # '''TODO: Define the number of neurons for the first fully connected (Dense) layer.'''\n",
    "      tf.keras.layers.Dense(128, activation=tf.nn.relu),\n",
    "\n",
    "      # '''TODO: Define the number of neurons of the second Dense layer to output the classification probabilities'''\n",
    "      # [hint: use same syntact as previous layer but different number of neurons]\n",
    "      \n",
    "      tf.keras.layers.Dense(10, activation=tf.nn.softmax)\n",
    "      \n",
    "  ])\n",
    "  return fc_model\n",
    "\n",
    "model = build_fc_model()"
   ]
  },
  {
   "cell_type": "markdown",
   "metadata": {
    "colab_type": "text",
    "id": "Fqe_LqDZazTf"
   },
   "source": [
    "As we progress through this next portion, you may find that you'll want to make changes to the architecture defined above. *Note that in order to update the model later on, you'll need to re-run the above cell to re-initialize the model. *\n",
    "\n",
    "\n",
    "\n",
    "That defines our fully connected model!"
   ]
  },
  {
   "cell_type": "markdown",
   "metadata": {
    "colab_type": "text",
    "id": "Kwwh7RVo1NK7"
   },
   "source": [
    "**1.3 Training the model**"
   ]
  },
  {
   "cell_type": "markdown",
   "metadata": {
    "colab_type": "text",
    "id": "P70CJrtMbB6B"
   },
   "source": [
    "Before training the model, we need to define a few more settings. These are added during the model's compile step:\n",
    "\n",
    "**Loss function** — This defines how we measure how accurate the model is during training. As was covered in lecture, during training we want to minimize this function, which will \"steer\" the model in the right direction.\n",
    "\n",
    "**Optimizer** — This defines how the model is updated based on the data it sees and its loss function.\n",
    "\n",
    "**Metrics** — Here we can define metrics used to monitor the training and testing steps. In this example, we'll look at the accuracy, the fraction of the images that are correctly classified.\n",
    "\n",
    "We'll start out by using a stochastic gradient descent (SGD) optimizer initialized with a learning rate of **0.1**. Since we are performing a categorical classification task, we'll want to use the cross entropy loss.\n",
    "\n",
    "You'll want to experiment with both the choice of optimizer and learning rate and evaluate how these affect the accuracy of the trained model."
   ]
  },
  {
   "cell_type": "code",
   "execution_count": 8,
   "metadata": {
    "colab": {},
    "colab_type": "code",
    "id": "JaYgIbC9bJvk"
   },
   "outputs": [],
   "source": [
    "#'''TODO: Experiment with different learning rates\n",
    "model.compile(optimizer=tf.keras.optimizers.SGD(learning_rate=0.1), \n",
    "              loss='sparse_categorical_crossentropy',\n",
    "              metrics=['accuracy'])"
   ]
  },
  {
   "cell_type": "markdown",
   "metadata": {
    "colab_type": "text",
    "id": "wcvb6iQmbWs8"
   },
   "source": [
    "We're now ready to train our model, which will involve feeding the training data (train_images and train_labels) into the model, and then asking it to learn the associations between images and labels. We'll also need to define the batch size and the number of epochs, or iterations over the MNIST dataset, to use during training.\n",
    "\n",
    "We can use GradientTape to optimize losses and train models with stochastic gradient descent. After defining the model settings in the compile step, we can also accomplish training by calling the fit method on an instance of the Model class. We will use this to train our fully connected model"
   ]
  },
  {
   "cell_type": "markdown",
   "metadata": {
    "colab_type": "text",
    "id": "-se4-GgObrA-"
   },
   "source": [
    "As the model trains, the loss and accuracy metrics are displayed. "
   ]
  },
  {
   "cell_type": "code",
   "execution_count": 9,
   "metadata": {
    "colab": {},
    "colab_type": "code",
    "id": "di7xpvvDbaDj",
    "scrolled": true
   },
   "outputs": [
    {
     "name": "stdout",
     "output_type": "stream",
     "text": [
      "Train on 60000 samples\n",
      "Epoch 1/20\n",
      "60000/60000 [==============================] - ETA: 6s - loss: 2.4212 - accuracy: 0.09 - ETA: 0s - loss: 2.1145 - accuracy: 0.33 - ETA: 0s - loss: 1.8412 - accuracy: 0.50 - ETA: 0s - loss: 1.6213 - accuracy: 0.58 - 0s 7us/sample - loss: 1.4900 - accuracy: 0.6298\n",
      "Epoch 2/20\n",
      "60000/60000 [==============================] - ETA: 0s - loss: 0.8935 - accuracy: 0.80 - ETA: 0s - loss: 0.8212 - accuracy: 0.82 - ETA: 0s - loss: 0.7661 - accuracy: 0.83 - ETA: 0s - loss: 0.7235 - accuracy: 0.83 - 0s 3us/sample - loss: 0.7102 - accuracy: 0.8402\n",
      "Epoch 3/20\n",
      "60000/60000 [==============================] - ETA: 0s - loss: 0.6030 - accuracy: 0.85 - ETA: 0s - loss: 0.5712 - accuracy: 0.85 - ETA: 0s - loss: 0.5482 - accuracy: 0.86 - 0s 3us/sample - loss: 0.5331 - accuracy: 0.8675\n",
      "Epoch 4/20\n",
      "60000/60000 [==============================] - ETA: 0s - loss: 0.4931 - accuracy: 0.87 - ETA: 0s - loss: 0.4800 - accuracy: 0.87 - ETA: 0s - loss: 0.4689 - accuracy: 0.87 - 0s 3us/sample - loss: 0.4592 - accuracy: 0.8810\n",
      "Epoch 5/20\n",
      "60000/60000 [==============================] - ETA: 0s - loss: 0.4443 - accuracy: 0.88 - ETA: 0s - loss: 0.4307 - accuracy: 0.88 - ETA: 0s - loss: 0.4258 - accuracy: 0.88 - 0s 3us/sample - loss: 0.4171 - accuracy: 0.8892\n",
      "Epoch 6/20\n",
      "60000/60000 [==============================] - ETA: 0s - loss: 0.4164 - accuracy: 0.88 - ETA: 0s - loss: 0.3963 - accuracy: 0.89 - ETA: 0s - loss: 0.3940 - accuracy: 0.89 - 0s 3us/sample - loss: 0.3893 - accuracy: 0.8945\n",
      "Epoch 7/20\n",
      "60000/60000 [==============================] - ETA: 0s - loss: 0.3798 - accuracy: 0.89 - ETA: 0s - loss: 0.3764 - accuracy: 0.89 - ETA: 0s - loss: 0.3700 - accuracy: 0.89 - 0s 3us/sample - loss: 0.3690 - accuracy: 0.8990\n",
      "Epoch 8/20\n",
      "60000/60000 [==============================] - ETA: 0s - loss: 0.3282 - accuracy: 0.90 - ETA: 0s - loss: 0.3592 - accuracy: 0.90 - ETA: 0s - loss: 0.3563 - accuracy: 0.90 - 0s 3us/sample - loss: 0.3532 - accuracy: 0.9022\n",
      "Epoch 9/20\n",
      "60000/60000 [==============================] - ETA: 0s - loss: 0.3534 - accuracy: 0.90 - ETA: 0s - loss: 0.3462 - accuracy: 0.90 - ETA: 0s - loss: 0.3399 - accuracy: 0.90 - 0s 3us/sample - loss: 0.3401 - accuracy: 0.9056\n",
      "Epoch 10/20\n",
      "60000/60000 [==============================] - ETA: 0s - loss: 0.3465 - accuracy: 0.89 - ETA: 0s - loss: 0.3309 - accuracy: 0.90 - ETA: 0s - loss: 0.3309 - accuracy: 0.90 - 0s 3us/sample - loss: 0.3292 - accuracy: 0.9079\n",
      "Epoch 11/20\n",
      "60000/60000 [==============================] - ETA: 0s - loss: 0.3047 - accuracy: 0.91 - ETA: 0s - loss: 0.3242 - accuracy: 0.90 - ETA: 0s - loss: 0.3222 - accuracy: 0.91 - 0s 3us/sample - loss: 0.3194 - accuracy: 0.9107\n",
      "Epoch 12/20\n",
      "60000/60000 [==============================] - ETA: 0s - loss: 0.3130 - accuracy: 0.91 - ETA: 0s - loss: 0.3084 - accuracy: 0.91 - ETA: 0s - loss: 0.3117 - accuracy: 0.91 - 0s 3us/sample - loss: 0.3110 - accuracy: 0.9130\n",
      "Epoch 13/20\n",
      "60000/60000 [==============================] - ETA: 0s - loss: 0.3005 - accuracy: 0.91 - ETA: 0s - loss: 0.3126 - accuracy: 0.91 - ETA: 0s - loss: 0.3092 - accuracy: 0.91 - 0s 3us/sample - loss: 0.3036 - accuracy: 0.9149\n",
      "Epoch 14/20\n",
      "60000/60000 [==============================] - ETA: 0s - loss: 0.2967 - accuracy: 0.91 - ETA: 0s - loss: 0.2951 - accuracy: 0.91 - ETA: 0s - loss: 0.2967 - accuracy: 0.91 - 0s 3us/sample - loss: 0.2964 - accuracy: 0.9160\n",
      "Epoch 15/20\n",
      "60000/60000 [==============================] - ETA: 0s - loss: 0.3147 - accuracy: 0.91 - ETA: 0s - loss: 0.2953 - accuracy: 0.91 - ETA: 0s - loss: 0.2914 - accuracy: 0.91 - 0s 3us/sample - loss: 0.2900 - accuracy: 0.9182\n",
      "Epoch 16/20\n",
      "60000/60000 [==============================] - ETA: 0s - loss: 0.3265 - accuracy: 0.91 - ETA: 0s - loss: 0.2842 - accuracy: 0.92 - ETA: 0s - loss: 0.2842 - accuracy: 0.92 - 0s 3us/sample - loss: 0.2840 - accuracy: 0.9197\n",
      "Epoch 17/20\n",
      "60000/60000 [==============================] - ETA: 0s - loss: 0.2579 - accuracy: 0.92 - ETA: 0s - loss: 0.2874 - accuracy: 0.91 - ETA: 0s - loss: 0.2816 - accuracy: 0.92 - 0s 3us/sample - loss: 0.2784 - accuracy: 0.9214\n",
      "Epoch 18/20\n",
      "60000/60000 [==============================] - ETA: 0s - loss: 0.2842 - accuracy: 0.91 - ETA: 0s - loss: 0.2773 - accuracy: 0.92 - ETA: 0s - loss: 0.2774 - accuracy: 0.92 - 0s 3us/sample - loss: 0.2732 - accuracy: 0.9232\n",
      "Epoch 19/20\n",
      "60000/60000 [==============================] - ETA: 0s - loss: 0.2694 - accuracy: 0.92 - ETA: 0s - loss: 0.2639 - accuracy: 0.92 - ETA: 0s - loss: 0.2673 - accuracy: 0.92 - 0s 3us/sample - loss: 0.2681 - accuracy: 0.9247\n",
      "Epoch 20/20\n",
      "60000/60000 [==============================] - ETA: 0s - loss: 0.2557 - accuracy: 0.93 - ETA: 0s - loss: 0.2623 - accuracy: 0.92 - ETA: 0s - loss: 0.2641 - accuracy: 0.92 - 0s 2us/sample - loss: 0.2635 - accuracy: 0.9257\n"
     ]
    },
    {
     "data": {
      "text/plain": [
       "<tensorflow.python.keras.callbacks.History at 0x21c808a0b48>"
      ]
     },
     "execution_count": 9,
     "metadata": {},
     "output_type": "execute_result"
    }
   ],
   "source": [
    "# Define the batch size and the number of epochs to use during training\n",
    "BATCH_SIZE = 2000\n",
    "EPOCHS = 20\n",
    "\n",
    "model.fit(train_images, train_labels, batch_size=BATCH_SIZE, epochs=EPOCHS)"
   ]
  },
  {
   "cell_type": "markdown",
   "metadata": {
    "colab_type": "text",
    "id": "GmYYSd20bvaj"
   },
   "source": [
    "**Evaluate accuracy on the test dataset**\n",
    "\n",
    "Now that we've trained the model, we can ask it to make predictions about a test set that it hasn't seen before. In this example, the test_images array comprises our test dataset. To evaluate accuracy, we can check to see if the model's predictions match the labels from the test_labels array.\n",
    "\n",
    "Use the evaluate method to evaluate the model on the test dataset!"
   ]
  },
  {
   "cell_type": "code",
   "execution_count": 10,
   "metadata": {
    "colab": {},
    "colab_type": "code",
    "id": "MSTt2G2Mbx7P"
   },
   "outputs": [
    {
     "name": "stdout",
     "output_type": "stream",
     "text": [
      "hello\n",
      "10000/10000 [==============================] - ETA: 20s - loss: 0.2241 - accuracy: 0.968 - ETA: 0s - loss: 0.3086 - accuracy: 0.909 - ETA: 0s - loss: 0.3288 - accuracy: 0.90 - ETA: 0s - loss: 0.3296 - accuracy: 0.90 - ETA: 0s - loss: 0.3051 - accuracy: 0.91 - ETA: 0s - loss: 0.2854 - accuracy: 0.92 - ETA: 0s - loss: 0.2602 - accuracy: 0.92 - 0s 42us/sample - loss: 0.2547 - accuracy: 0.9286\n",
      "Test accuracy: 0.9286\n"
     ]
    }
   ],
   "source": [
    "# test the model\n",
    "print(\"hello\")\n",
    "test_loss, test_acc = model.evaluate(test_images, test_labels) \n",
    "\n",
    "print('Test accuracy:', test_acc)"
   ]
  },
  {
   "cell_type": "markdown",
   "metadata": {
    "colab_type": "text",
    "id": "QUb-9Il2b4dz"
   },
   "source": [
    "You may observe that the accuracy on the test dataset is a little lower than the accuracy on the training dataset. This gap between training accuracy and test accuracy is an example of *overfitting*, when a machine learning model performs worse on new data than on its training data. \n",
    "\n",
    "What is the highest accuracy you can achieve with this first fully connected model? Since the handwritten digit classification task is pretty straightforward, you may be wondering how we can do better...\n",
    "\n",
    "![Deeper...](https://i.kym-cdn.com/photos/images/newsfeed/000/534/153/f87.jpg)"
   ]
  },
  {
   "cell_type": "markdown",
   "metadata": {},
   "source": [
    "### Answers for part 1\n",
    "\n",
    "#### a. Why the training data is divided by 255?\n",
    "    Data values were divided by 255 to normalize the data between 0 and 1\n",
    "    \n",
    "#### b. Which values did you select for the epochs, batch size, and learning rate? Why?\n",
    "    batch size, learning rate and epoch were chosen so that we had the smallest possible loss when running.\n",
    "    \n",
    "    Large learning rate: Converges much faster than smaller rates, however gradient can increase and generate oscillation. Additionally, it may converge to sub-optimal weights (jumping over minima)\n",
    "    \n",
    "    Small learning rate: Makes sure that it will not jump over minima, however, takes too long to coverge and may get stuck on local minimum instead of global\n",
    "    \n",
    "    Epoch number should be enough to converge and the loss change is minimal\n",
    "    \n",
    "    Lastly, the batch size impacts the number of iterations, therefore a very small batch size will converge quickly but could not be a sub-optimal minima. In contrast, using a very large batch size, like the size of the dataset, would find global minima but would be more computational intense.\n",
    "\n",
    "#### c. How do you think this fully-connected model could be improved? Why that solution?\n",
    "    Maybe add more layers on the model for improvment."
   ]
  },
  {
   "cell_type": "markdown",
   "metadata": {
    "colab_type": "text",
    "id": "yXDAnahdeVOd"
   },
   "source": [
    "# Part 2: Convolutional Neural Network (CNN) for handwritten digit classification\n"
   ]
  },
  {
   "cell_type": "markdown",
   "metadata": {
    "colab_type": "text",
    "id": "NtXOie2ceYEU"
   },
   "source": [
    "As we saw in lecture, convolutional neural networks (CNNs) are particularly well-suited for a variety of tasks in computer vision, and have achieved near-perfect accuracies on the MNIST dataset. We will now build a CNN composed of two convolutional layers and pooling layers, followed by two fully connected layers, and ultimately output a probability distribution over the 10 digit classes (0-9). The CNN we will be building is depicted below:\n",
    "\n",
    "![alt_text](https://gitlab.cs.washington.edu/arjonal/eep523/raw/master/convnet_fig.png?inline=false \"CNN Architecture for MNIST Classification\")\n"
   ]
  },
  {
   "cell_type": "markdown",
   "metadata": {
    "colab_type": "text",
    "id": "TGyUGN3ZgSE6"
   },
   "source": [
    "We'll use the same training and test datasets as before, and proceed similarly as our fully connected network to define and train our new CNN model. To do this we will explore two layers we have not encountered before: you can use keras.layers.Conv2D to define convolutional layers and keras.layers.MaxPool2D to define the pooling layers. Use the parameters shown in the network architecture above to define these layers and build the CNN model."
   ]
  },
  {
   "cell_type": "markdown",
   "metadata": {
    "colab_type": "text",
    "id": "fEL30dxyDimx"
   },
   "source": [
    "**'''TODO'''**\n",
    "\n",
    "**Complete the model definition below, by entereing the missing parameters. You can find all the solutions by looking at the picture above**"
   ]
  },
  {
   "cell_type": "code",
   "execution_count": 11,
   "metadata": {
    "colab": {},
    "colab_type": "code",
    "id": "goSdXdPMgSfM"
   },
   "outputs": [
    {
     "name": "stdout",
     "output_type": "stream",
     "text": [
      "Model: \"sequential_1\"\n",
      "_________________________________________________________________\n",
      "Layer (type)                 Output Shape              Param #   \n",
      "=================================================================\n",
      "conv2d (Conv2D)              multiple                  240       \n",
      "_________________________________________________________________\n",
      "max_pooling2d (MaxPooling2D) multiple                  0         \n",
      "_________________________________________________________________\n",
      "conv2d_1 (Conv2D)            multiple                  7812      \n",
      "_________________________________________________________________\n",
      "max_pooling2d_1 (MaxPooling2 multiple                  0         \n",
      "_________________________________________________________________\n",
      "flatten_1 (Flatten)          multiple                  0         \n",
      "_________________________________________________________________\n",
      "dense_2 (Dense)              multiple                  115328    \n",
      "_________________________________________________________________\n",
      "dense_3 (Dense)              multiple                  1290      \n",
      "=================================================================\n",
      "Total params: 124,670\n",
      "Trainable params: 124,670\n",
      "Non-trainable params: 0\n",
      "_________________________________________________________________\n",
      "None\n"
     ]
    }
   ],
   "source": [
    "def build_cnn_model():\n",
    "    cnn_model = tf.keras.Sequential([\n",
    "\n",
    "        # TODO: Define the first convolutional layer\n",
    "        tf.keras.layers.Conv2D(filters=24, kernel_size=(3,3), activation=tf.nn.relu),\n",
    "\n",
    "        # TODO: Define the first max pooling layer\n",
    "        tf.keras.layers.MaxPool2D(pool_size=(2,2)),\n",
    "     \n",
    "        # TODO: Define the second convolutional layer\n",
    "        tf.keras.layers.Conv2D(filters=36, kernel_size=(3,3), activation=tf.nn.relu),\n",
    "       \n",
    "\n",
    "        # TODO: Define the second max pooling layer\n",
    "        tf.keras.layers.MaxPool2D(pool_size=(2,2)),\n",
    "   \n",
    "\n",
    "        tf.keras.layers.Flatten(),\n",
    "        tf.keras.layers.Dense(128, activation=tf.nn.relu),\n",
    "\n",
    "        # TODO: Define the last Dense layer to output the classification \n",
    "        # probabilities. \n",
    "        tf.keras.layers.Dense(10, activation=tf.nn.softmax)\n",
    "    ])\n",
    "    \n",
    "    return cnn_model\n",
    "  \n",
    "cnn_model = build_cnn_model()\n",
    "# Initialize the model by passing some data through\n",
    "cnn_model.predict(train_images[[0]])\n",
    "# Print the summary of the layers in the model.\n",
    "print(cnn_model.summary())"
   ]
  },
  {
   "cell_type": "markdown",
   "metadata": {
    "colab_type": "text",
    "id": "9J-CCWNugmXi"
   },
   "source": [
    "Train and test the CNN model\n",
    "Now, as before, we can define the loss function, optimizer, and metrics through the compile method. Compile the CNN model with an optimizer and learning rate of choice:\n",
    "\n"
   ]
  },
  {
   "cell_type": "code",
   "execution_count": 12,
   "metadata": {
    "colab": {},
    "colab_type": "code",
    "id": "Wo2LuowQgrhn"
   },
   "outputs": [],
   "source": [
    "'''TODO: Define the learning rate of choice'''\n",
    "cnn_model.compile(optimizer=tf.keras.optimizers.Adam(learning_rate=0.01),\n",
    "              loss='sparse_categorical_crossentropy',\n",
    "              metrics=['accuracy'])\n"
   ]
  },
  {
   "cell_type": "markdown",
   "metadata": {
    "colab_type": "text",
    "id": "VW8A5EXCgrxx"
   },
   "source": [
    "Training the neural network model requires the following steps:\n",
    "\n",
    "Feed the training data to the model. In this example, the training data is in the train_images and train_labels arrays.\n",
    "The model learns to associate images and labels.\n",
    "You ask the model to make predictions about a test set—in this example, the test_images array.\n",
    "Verify that the predictions match the labels from the test_labels array.\n",
    "\n",
    "\n",
    "To start training, we can call the model.fit method—so called because it \"fits\" the model to the training data:"
   ]
  },
  {
   "cell_type": "markdown",
   "metadata": {
    "colab_type": "text",
    "id": "M1M8qtXCgvEz"
   },
   "source": [
    "As was the case with the fully connected model, we can train our CNN using the fit method via the Keras API"
   ]
  },
  {
   "cell_type": "code",
   "execution_count": 13,
   "metadata": {
    "colab": {},
    "colab_type": "code",
    "id": "NQmWSbjSgwo8",
    "scrolled": true
   },
   "outputs": [
    {
     "name": "stdout",
     "output_type": "stream",
     "text": [
      "Train on 60000 samples\n",
      "Epoch 1/20\n",
      "60000/60000 [==============================] - ETA: 18s - loss: 2.3144 - accuracy: 0.096 - ETA: 11s - loss: 2.2060 - accuracy: 0.225 - ETA: 9s - loss: 2.0801 - accuracy: 0.278 - ETA: 8s - loss: 2.0066 - accuracy: 0.31 - ETA: 7s - loss: 1.9072 - accuracy: 0.35 - ETA: 6s - loss: 1.7917 - accuracy: 0.40 - ETA: 5s - loss: 1.6715 - accuracy: 0.45 - ETA: 5s - loss: 1.5498 - accuracy: 0.49 - ETA: 5s - loss: 1.4378 - accuracy: 0.52 - ETA: 4s - loss: 1.3480 - accuracy: 0.56 - ETA: 4s - loss: 1.2690 - accuracy: 0.58 - ETA: 4s - loss: 1.2005 - accuracy: 0.60 - ETA: 3s - loss: 1.1359 - accuracy: 0.63 - ETA: 3s - loss: 1.0785 - accuracy: 0.65 - ETA: 3s - loss: 1.0250 - accuracy: 0.66 - ETA: 3s - loss: 0.9774 - accuracy: 0.68 - ETA: 2s - loss: 0.9348 - accuracy: 0.69 - ETA: 2s - loss: 0.8938 - accuracy: 0.71 - ETA: 2s - loss: 0.8565 - accuracy: 0.72 - ETA: 2s - loss: 0.8245 - accuracy: 0.73 - ETA: 1s - loss: 0.7943 - accuracy: 0.74 - ETA: 1s - loss: 0.7665 - accuracy: 0.75 - ETA: 1s - loss: 0.7423 - accuracy: 0.76 - ETA: 1s - loss: 0.7185 - accuracy: 0.76 - ETA: 1s - loss: 0.6963 - accuracy: 0.77 - ETA: 0s - loss: 0.6754 - accuracy: 0.78 - ETA: 0s - loss: 0.6546 - accuracy: 0.79 - ETA: 0s - loss: 0.6365 - accuracy: 0.79 - ETA: 0s - loss: 0.6191 - accuracy: 0.80 - 6s 103us/sample - loss: 0.6035 - accuracy: 0.8069\n",
      "Epoch 2/20\n",
      "60000/60000 [==============================] - ETA: 5s - loss: 0.1334 - accuracy: 0.96 - ETA: 5s - loss: 0.1136 - accuracy: 0.96 - ETA: 5s - loss: 0.1132 - accuracy: 0.96 - ETA: 4s - loss: 0.1077 - accuracy: 0.96 - ETA: 4s - loss: 0.1064 - accuracy: 0.96 - ETA: 4s - loss: 0.1077 - accuracy: 0.96 - ETA: 4s - loss: 0.1055 - accuracy: 0.96 - ETA: 4s - loss: 0.1035 - accuracy: 0.96 - ETA: 3s - loss: 0.1027 - accuracy: 0.96 - ETA: 3s - loss: 0.0994 - accuracy: 0.96 - ETA: 3s - loss: 0.0979 - accuracy: 0.96 - ETA: 3s - loss: 0.0958 - accuracy: 0.97 - ETA: 3s - loss: 0.0950 - accuracy: 0.97 - ETA: 3s - loss: 0.0937 - accuracy: 0.97 - ETA: 2s - loss: 0.0921 - accuracy: 0.97 - ETA: 2s - loss: 0.0913 - accuracy: 0.97 - ETA: 2s - loss: 0.0895 - accuracy: 0.97 - ETA: 2s - loss: 0.0893 - accuracy: 0.97 - ETA: 2s - loss: 0.0886 - accuracy: 0.97 - ETA: 1s - loss: 0.0873 - accuracy: 0.97 - ETA: 1s - loss: 0.0861 - accuracy: 0.97 - ETA: 1s - loss: 0.0864 - accuracy: 0.97 - ETA: 1s - loss: 0.0860 - accuracy: 0.97 - ETA: 1s - loss: 0.0853 - accuracy: 0.97 - ETA: 0s - loss: 0.0847 - accuracy: 0.97 - ETA: 0s - loss: 0.0845 - accuracy: 0.97 - ETA: 0s - loss: 0.0837 - accuracy: 0.97 - ETA: 0s - loss: 0.0829 - accuracy: 0.97 - ETA: 0s - loss: 0.0829 - accuracy: 0.97 - 6s 94us/sample - loss: 0.0822 - accuracy: 0.9746\n",
      "Epoch 3/20\n",
      "60000/60000 [==============================] - ETA: 5s - loss: 0.0513 - accuracy: 0.98 - ETA: 5s - loss: 0.0508 - accuracy: 0.98 - ETA: 5s - loss: 0.0537 - accuracy: 0.98 - ETA: 4s - loss: 0.0514 - accuracy: 0.98 - ETA: 4s - loss: 0.0523 - accuracy: 0.98 - ETA: 4s - loss: 0.0518 - accuracy: 0.98 - ETA: 4s - loss: 0.0532 - accuracy: 0.98 - ETA: 4s - loss: 0.0536 - accuracy: 0.98 - ETA: 3s - loss: 0.0527 - accuracy: 0.98 - ETA: 3s - loss: 0.0525 - accuracy: 0.98 - ETA: 3s - loss: 0.0526 - accuracy: 0.98 - ETA: 3s - loss: 0.0522 - accuracy: 0.98 - ETA: 3s - loss: 0.0517 - accuracy: 0.98 - ETA: 3s - loss: 0.0508 - accuracy: 0.98 - ETA: 2s - loss: 0.0509 - accuracy: 0.98 - ETA: 2s - loss: 0.0506 - accuracy: 0.98 - ETA: 2s - loss: 0.0504 - accuracy: 0.98 - ETA: 2s - loss: 0.0501 - accuracy: 0.98 - ETA: 2s - loss: 0.0501 - accuracy: 0.98 - ETA: 1s - loss: 0.0501 - accuracy: 0.98 - ETA: 1s - loss: 0.0500 - accuracy: 0.98 - ETA: 1s - loss: 0.0496 - accuracy: 0.98 - ETA: 1s - loss: 0.0495 - accuracy: 0.98 - ETA: 1s - loss: 0.0492 - accuracy: 0.98 - ETA: 0s - loss: 0.0494 - accuracy: 0.98 - ETA: 0s - loss: 0.0491 - accuracy: 0.98 - ETA: 0s - loss: 0.0492 - accuracy: 0.98 - ETA: 0s - loss: 0.0488 - accuracy: 0.98 - ETA: 0s - loss: 0.0485 - accuracy: 0.98 - 6s 94us/sample - loss: 0.0487 - accuracy: 0.9849\n",
      "Epoch 4/20\n",
      "60000/60000 [==============================] - ETA: 5s - loss: 0.0482 - accuracy: 0.98 - ETA: 5s - loss: 0.0414 - accuracy: 0.98 - ETA: 5s - loss: 0.0383 - accuracy: 0.98 - ETA: 4s - loss: 0.0371 - accuracy: 0.98 - ETA: 4s - loss: 0.0384 - accuracy: 0.98 - ETA: 4s - loss: 0.0386 - accuracy: 0.98 - ETA: 4s - loss: 0.0390 - accuracy: 0.98 - ETA: 4s - loss: 0.0398 - accuracy: 0.98 - ETA: 3s - loss: 0.0375 - accuracy: 0.98 - ETA: 3s - loss: 0.0372 - accuracy: 0.98 - ETA: 3s - loss: 0.0359 - accuracy: 0.98 - ETA: 3s - loss: 0.0360 - accuracy: 0.98 - ETA: 3s - loss: 0.0359 - accuracy: 0.98 - ETA: 3s - loss: 0.0355 - accuracy: 0.98 - ETA: 2s - loss: 0.0352 - accuracy: 0.98 - ETA: 2s - loss: 0.0357 - accuracy: 0.98 - ETA: 2s - loss: 0.0362 - accuracy: 0.98 - ETA: 2s - loss: 0.0361 - accuracy: 0.98 - ETA: 2s - loss: 0.0357 - accuracy: 0.98 - ETA: 1s - loss: 0.0354 - accuracy: 0.98 - ETA: 1s - loss: 0.0354 - accuracy: 0.98 - ETA: 1s - loss: 0.0353 - accuracy: 0.98 - ETA: 1s - loss: 0.0354 - accuracy: 0.98 - ETA: 1s - loss: 0.0351 - accuracy: 0.98 - ETA: 0s - loss: 0.0348 - accuracy: 0.98 - ETA: 0s - loss: 0.0345 - accuracy: 0.98 - ETA: 0s - loss: 0.0342 - accuracy: 0.98 - ETA: 0s - loss: 0.0342 - accuracy: 0.98 - ETA: 0s - loss: 0.0342 - accuracy: 0.98 - 6s 94us/sample - loss: 0.0341 - accuracy: 0.9892\n",
      "Epoch 5/20\n",
      "60000/60000 [==============================] - ETA: 5s - loss: 0.0266 - accuracy: 0.99 - ETA: 5s - loss: 0.0238 - accuracy: 0.99 - ETA: 5s - loss: 0.0266 - accuracy: 0.99 - ETA: 4s - loss: 0.0264 - accuracy: 0.99 - ETA: 4s - loss: 0.0272 - accuracy: 0.99 - ETA: 4s - loss: 0.0260 - accuracy: 0.99 - ETA: 4s - loss: 0.0269 - accuracy: 0.99 - ETA: 4s - loss: 0.0278 - accuracy: 0.99 - ETA: 4s - loss: 0.0281 - accuracy: 0.99 - ETA: 3s - loss: 0.0278 - accuracy: 0.99 - ETA: 3s - loss: 0.0278 - accuracy: 0.99 - ETA: 3s - loss: 0.0281 - accuracy: 0.99 - ETA: 3s - loss: 0.0284 - accuracy: 0.99 - ETA: 3s - loss: 0.0280 - accuracy: 0.99 - ETA: 2s - loss: 0.0281 - accuracy: 0.99 - ETA: 2s - loss: 0.0281 - accuracy: 0.99 - ETA: 2s - loss: 0.0280 - accuracy: 0.99 - ETA: 2s - loss: 0.0282 - accuracy: 0.99 - ETA: 2s - loss: 0.0280 - accuracy: 0.99 - ETA: 1s - loss: 0.0276 - accuracy: 0.99 - ETA: 1s - loss: 0.0278 - accuracy: 0.99 - ETA: 1s - loss: 0.0278 - accuracy: 0.99 - ETA: 1s - loss: 0.0274 - accuracy: 0.99 - ETA: 1s - loss: 0.0274 - accuracy: 0.99 - ETA: 0s - loss: 0.0273 - accuracy: 0.99 - ETA: 0s - loss: 0.0270 - accuracy: 0.99 - ETA: 0s - loss: 0.0270 - accuracy: 0.99 - ETA: 0s - loss: 0.0275 - accuracy: 0.99 - ETA: 0s - loss: 0.0275 - accuracy: 0.99 - 6s 95us/sample - loss: 0.0274 - accuracy: 0.9915\n",
      "Epoch 6/20\n",
      "60000/60000 [==============================] - ETA: 5s - loss: 0.0222 - accuracy: 0.99 - ETA: 5s - loss: 0.0207 - accuracy: 0.99 - ETA: 5s - loss: 0.0232 - accuracy: 0.99 - ETA: 4s - loss: 0.0207 - accuracy: 0.99 - ETA: 4s - loss: 0.0194 - accuracy: 0.99 - ETA: 4s - loss: 0.0210 - accuracy: 0.99 - ETA: 4s - loss: 0.0210 - accuracy: 0.99 - ETA: 4s - loss: 0.0207 - accuracy: 0.99 - ETA: 3s - loss: 0.0200 - accuracy: 0.99 - ETA: 3s - loss: 0.0196 - accuracy: 0.99 - ETA: 3s - loss: 0.0192 - accuracy: 0.99 - ETA: 3s - loss: 0.0192 - accuracy: 0.99 - ETA: 3s - loss: 0.0188 - accuracy: 0.99 - ETA: 3s - loss: 0.0186 - accuracy: 0.99 - ETA: 2s - loss: 0.0190 - accuracy: 0.99 - ETA: 2s - loss: 0.0195 - accuracy: 0.99 - ETA: 2s - loss: 0.0203 - accuracy: 0.99 - ETA: 2s - loss: 0.0207 - accuracy: 0.99 - ETA: 2s - loss: 0.0206 - accuracy: 0.99 - ETA: 1s - loss: 0.0210 - accuracy: 0.99 - ETA: 1s - loss: 0.0206 - accuracy: 0.99 - ETA: 1s - loss: 0.0205 - accuracy: 0.99 - ETA: 1s - loss: 0.0206 - accuracy: 0.99 - ETA: 1s - loss: 0.0208 - accuracy: 0.99 - ETA: 0s - loss: 0.0206 - accuracy: 0.99 - ETA: 0s - loss: 0.0204 - accuracy: 0.99 - ETA: 0s - loss: 0.0203 - accuracy: 0.99 - ETA: 0s - loss: 0.0206 - accuracy: 0.99 - ETA: 0s - loss: 0.0206 - accuracy: 0.99 - 6s 94us/sample - loss: 0.0205 - accuracy: 0.9935\n",
      "Epoch 7/20\n"
     ]
    },
    {
     "name": "stdout",
     "output_type": "stream",
     "text": [
      "60000/60000 [==============================] - ETA: 5s - loss: 0.0187 - accuracy: 0.99 - ETA: 5s - loss: 0.0194 - accuracy: 0.99 - ETA: 5s - loss: 0.0183 - accuracy: 0.99 - ETA: 4s - loss: 0.0177 - accuracy: 0.99 - ETA: 4s - loss: 0.0177 - accuracy: 0.99 - ETA: 4s - loss: 0.0169 - accuracy: 0.99 - ETA: 4s - loss: 0.0166 - accuracy: 0.99 - ETA: 4s - loss: 0.0165 - accuracy: 0.99 - ETA: 3s - loss: 0.0170 - accuracy: 0.99 - ETA: 3s - loss: 0.0167 - accuracy: 0.99 - ETA: 3s - loss: 0.0167 - accuracy: 0.99 - ETA: 3s - loss: 0.0164 - accuracy: 0.99 - ETA: 3s - loss: 0.0168 - accuracy: 0.99 - ETA: 3s - loss: 0.0171 - accuracy: 0.99 - ETA: 2s - loss: 0.0173 - accuracy: 0.99 - ETA: 2s - loss: 0.0172 - accuracy: 0.99 - ETA: 2s - loss: 0.0170 - accuracy: 0.99 - ETA: 2s - loss: 0.0169 - accuracy: 0.99 - ETA: 2s - loss: 0.0171 - accuracy: 0.99 - ETA: 1s - loss: 0.0168 - accuracy: 0.99 - ETA: 1s - loss: 0.0167 - accuracy: 0.99 - ETA: 1s - loss: 0.0170 - accuracy: 0.99 - ETA: 1s - loss: 0.0171 - accuracy: 0.99 - ETA: 1s - loss: 0.0173 - accuracy: 0.99 - ETA: 0s - loss: 0.0175 - accuracy: 0.99 - ETA: 0s - loss: 0.0175 - accuracy: 0.99 - ETA: 0s - loss: 0.0172 - accuracy: 0.99 - ETA: 0s - loss: 0.0169 - accuracy: 0.99 - ETA: 0s - loss: 0.0169 - accuracy: 0.99 - 6s 95us/sample - loss: 0.0169 - accuracy: 0.9949\n",
      "Epoch 8/20\n",
      "60000/60000 [==============================] - ETA: 5s - loss: 0.0107 - accuracy: 0.99 - ETA: 5s - loss: 0.0108 - accuracy: 0.99 - ETA: 5s - loss: 0.0127 - accuracy: 0.99 - ETA: 4s - loss: 0.0133 - accuracy: 0.99 - ETA: 4s - loss: 0.0124 - accuracy: 0.99 - ETA: 4s - loss: 0.0122 - accuracy: 0.99 - ETA: 4s - loss: 0.0118 - accuracy: 0.99 - ETA: 4s - loss: 0.0115 - accuracy: 0.99 - ETA: 3s - loss: 0.0118 - accuracy: 0.99 - ETA: 3s - loss: 0.0119 - accuracy: 0.99 - ETA: 3s - loss: 0.0117 - accuracy: 0.99 - ETA: 3s - loss: 0.0119 - accuracy: 0.99 - ETA: 3s - loss: 0.0119 - accuracy: 0.99 - ETA: 2s - loss: 0.0131 - accuracy: 0.99 - ETA: 2s - loss: 0.0132 - accuracy: 0.99 - ETA: 2s - loss: 0.0136 - accuracy: 0.99 - ETA: 2s - loss: 0.0139 - accuracy: 0.99 - ETA: 2s - loss: 0.0138 - accuracy: 0.99 - ETA: 2s - loss: 0.0139 - accuracy: 0.99 - ETA: 1s - loss: 0.0142 - accuracy: 0.99 - ETA: 1s - loss: 0.0145 - accuracy: 0.99 - ETA: 1s - loss: 0.0147 - accuracy: 0.99 - ETA: 1s - loss: 0.0149 - accuracy: 0.99 - ETA: 1s - loss: 0.0153 - accuracy: 0.99 - ETA: 0s - loss: 0.0156 - accuracy: 0.99 - ETA: 0s - loss: 0.0155 - accuracy: 0.99 - ETA: 0s - loss: 0.0156 - accuracy: 0.99 - ETA: 0s - loss: 0.0156 - accuracy: 0.99 - ETA: 0s - loss: 0.0157 - accuracy: 0.99 - 6s 94us/sample - loss: 0.0159 - accuracy: 0.9948\n",
      "Epoch 9/20\n",
      "60000/60000 [==============================] - ETA: 5s - loss: 0.0158 - accuracy: 0.99 - ETA: 5s - loss: 0.0155 - accuracy: 0.99 - ETA: 5s - loss: 0.0135 - accuracy: 0.99 - ETA: 4s - loss: 0.0144 - accuracy: 0.99 - ETA: 4s - loss: 0.0153 - accuracy: 0.99 - ETA: 4s - loss: 0.0141 - accuracy: 0.99 - ETA: 4s - loss: 0.0151 - accuracy: 0.99 - ETA: 4s - loss: 0.0147 - accuracy: 0.99 - ETA: 3s - loss: 0.0154 - accuracy: 0.99 - ETA: 3s - loss: 0.0156 - accuracy: 0.99 - ETA: 3s - loss: 0.0150 - accuracy: 0.99 - ETA: 3s - loss: 0.0149 - accuracy: 0.99 - ETA: 3s - loss: 0.0148 - accuracy: 0.99 - ETA: 3s - loss: 0.0146 - accuracy: 0.99 - ETA: 2s - loss: 0.0150 - accuracy: 0.99 - ETA: 2s - loss: 0.0146 - accuracy: 0.99 - ETA: 2s - loss: 0.0146 - accuracy: 0.99 - ETA: 2s - loss: 0.0142 - accuracy: 0.99 - ETA: 2s - loss: 0.0141 - accuracy: 0.99 - ETA: 1s - loss: 0.0146 - accuracy: 0.99 - ETA: 1s - loss: 0.0145 - accuracy: 0.99 - ETA: 1s - loss: 0.0145 - accuracy: 0.99 - ETA: 1s - loss: 0.0143 - accuracy: 0.99 - ETA: 1s - loss: 0.0145 - accuracy: 0.99 - ETA: 0s - loss: 0.0145 - accuracy: 0.99 - ETA: 0s - loss: 0.0144 - accuracy: 0.99 - ETA: 0s - loss: 0.0142 - accuracy: 0.99 - ETA: 0s - loss: 0.0141 - accuracy: 0.99 - ETA: 0s - loss: 0.0140 - accuracy: 0.99 - 6s 94us/sample - loss: 0.0138 - accuracy: 0.9956\n",
      "Epoch 10/20\n",
      "60000/60000 [==============================] - ETA: 5s - loss: 0.0122 - accuracy: 0.99 - ETA: 5s - loss: 0.0119 - accuracy: 0.99 - ETA: 5s - loss: 0.0111 - accuracy: 0.99 - ETA: 4s - loss: 0.0105 - accuracy: 0.99 - ETA: 4s - loss: 0.0096 - accuracy: 0.99 - ETA: 4s - loss: 0.0089 - accuracy: 0.99 - ETA: 4s - loss: 0.0086 - accuracy: 0.99 - ETA: 4s - loss: 0.0088 - accuracy: 0.99 - ETA: 4s - loss: 0.0090 - accuracy: 0.99 - ETA: 3s - loss: 0.0088 - accuracy: 0.99 - ETA: 3s - loss: 0.0098 - accuracy: 0.99 - ETA: 3s - loss: 0.0096 - accuracy: 0.99 - ETA: 3s - loss: 0.0093 - accuracy: 0.99 - ETA: 3s - loss: 0.0093 - accuracy: 0.99 - ETA: 2s - loss: 0.0090 - accuracy: 0.99 - ETA: 2s - loss: 0.0094 - accuracy: 0.99 - ETA: 2s - loss: 0.0095 - accuracy: 0.99 - ETA: 2s - loss: 0.0095 - accuracy: 0.99 - ETA: 2s - loss: 0.0094 - accuracy: 0.99 - ETA: 1s - loss: 0.0094 - accuracy: 0.99 - ETA: 1s - loss: 0.0094 - accuracy: 0.99 - ETA: 1s - loss: 0.0094 - accuracy: 0.99 - ETA: 1s - loss: 0.0094 - accuracy: 0.99 - ETA: 1s - loss: 0.0095 - accuracy: 0.99 - ETA: 0s - loss: 0.0096 - accuracy: 0.99 - ETA: 0s - loss: 0.0095 - accuracy: 0.99 - ETA: 0s - loss: 0.0101 - accuracy: 0.99 - ETA: 0s - loss: 0.0103 - accuracy: 0.99 - ETA: 0s - loss: 0.0102 - accuracy: 0.99 - 6s 95us/sample - loss: 0.0102 - accuracy: 0.9970\n",
      "Epoch 11/20\n",
      "60000/60000 [==============================] - ETA: 5s - loss: 0.0051 - accuracy: 0.99 - ETA: 5s - loss: 0.0062 - accuracy: 0.99 - ETA: 5s - loss: 0.0071 - accuracy: 0.99 - ETA: 4s - loss: 0.0073 - accuracy: 0.99 - ETA: 4s - loss: 0.0082 - accuracy: 0.99 - ETA: 4s - loss: 0.0083 - accuracy: 0.99 - ETA: 4s - loss: 0.0081 - accuracy: 0.99 - ETA: 4s - loss: 0.0080 - accuracy: 0.99 - ETA: 3s - loss: 0.0081 - accuracy: 0.99 - ETA: 3s - loss: 0.0079 - accuracy: 0.99 - ETA: 3s - loss: 0.0079 - accuracy: 0.99 - ETA: 3s - loss: 0.0077 - accuracy: 0.99 - ETA: 3s - loss: 0.0077 - accuracy: 0.99 - ETA: 2s - loss: 0.0075 - accuracy: 0.99 - ETA: 2s - loss: 0.0075 - accuracy: 0.99 - ETA: 2s - loss: 0.0074 - accuracy: 0.99 - ETA: 2s - loss: 0.0074 - accuracy: 0.99 - ETA: 2s - loss: 0.0074 - accuracy: 0.99 - ETA: 2s - loss: 0.0072 - accuracy: 0.99 - ETA: 1s - loss: 0.0073 - accuracy: 0.99 - ETA: 1s - loss: 0.0070 - accuracy: 0.99 - ETA: 1s - loss: 0.0070 - accuracy: 0.99 - ETA: 1s - loss: 0.0070 - accuracy: 0.99 - ETA: 1s - loss: 0.0073 - accuracy: 0.99 - ETA: 0s - loss: 0.0072 - accuracy: 0.99 - ETA: 0s - loss: 0.0074 - accuracy: 0.99 - ETA: 0s - loss: 0.0074 - accuracy: 0.99 - ETA: 0s - loss: 0.0074 - accuracy: 0.99 - ETA: 0s - loss: 0.0076 - accuracy: 0.99 - 6s 94us/sample - loss: 0.0076 - accuracy: 0.9977\n",
      "Epoch 12/20\n",
      "60000/60000 [==============================] - ETA: 5s - loss: 0.0055 - accuracy: 0.99 - ETA: 5s - loss: 0.0050 - accuracy: 0.99 - ETA: 5s - loss: 0.0047 - accuracy: 0.99 - ETA: 4s - loss: 0.0049 - accuracy: 0.99 - ETA: 4s - loss: 0.0054 - accuracy: 0.99 - ETA: 4s - loss: 0.0050 - accuracy: 0.99 - ETA: 4s - loss: 0.0050 - accuracy: 0.99 - ETA: 4s - loss: 0.0050 - accuracy: 0.99 - ETA: 3s - loss: 0.0050 - accuracy: 0.99 - ETA: 3s - loss: 0.0051 - accuracy: 0.99 - ETA: 3s - loss: 0.0050 - accuracy: 0.99 - ETA: 3s - loss: 0.0048 - accuracy: 0.99 - ETA: 3s - loss: 0.0047 - accuracy: 0.99 - ETA: 3s - loss: 0.0050 - accuracy: 0.99 - ETA: 2s - loss: 0.0052 - accuracy: 0.99 - ETA: 2s - loss: 0.0052 - accuracy: 0.99 - ETA: 2s - loss: 0.0051 - accuracy: 0.99 - ETA: 2s - loss: 0.0052 - accuracy: 0.99 - ETA: 2s - loss: 0.0056 - accuracy: 0.99 - ETA: 1s - loss: 0.0055 - accuracy: 0.99 - ETA: 1s - loss: 0.0058 - accuracy: 0.99 - ETA: 1s - loss: 0.0058 - accuracy: 0.99 - ETA: 1s - loss: 0.0058 - accuracy: 0.99 - ETA: 1s - loss: 0.0061 - accuracy: 0.99 - ETA: 0s - loss: 0.0064 - accuracy: 0.99 - ETA: 0s - loss: 0.0063 - accuracy: 0.99 - ETA: 0s - loss: 0.0063 - accuracy: 0.99 - ETA: 0s - loss: 0.0062 - accuracy: 0.99 - ETA: 0s - loss: 0.0063 - accuracy: 0.99 - 6s 94us/sample - loss: 0.0063 - accuracy: 0.9982\n",
      "Epoch 13/20\n"
     ]
    },
    {
     "name": "stdout",
     "output_type": "stream",
     "text": [
      "60000/60000 [==============================] - ETA: 5s - loss: 0.0045 - accuracy: 0.99 - ETA: 5s - loss: 0.0076 - accuracy: 0.99 - ETA: 5s - loss: 0.0081 - accuracy: 0.99 - ETA: 4s - loss: 0.0072 - accuracy: 0.99 - ETA: 4s - loss: 0.0066 - accuracy: 0.99 - ETA: 4s - loss: 0.0061 - accuracy: 0.99 - ETA: 4s - loss: 0.0059 - accuracy: 0.99 - ETA: 4s - loss: 0.0056 - accuracy: 0.99 - ETA: 4s - loss: 0.0059 - accuracy: 0.99 - ETA: 3s - loss: 0.0058 - accuracy: 0.99 - ETA: 3s - loss: 0.0058 - accuracy: 0.99 - ETA: 3s - loss: 0.0059 - accuracy: 0.99 - ETA: 3s - loss: 0.0058 - accuracy: 0.99 - ETA: 3s - loss: 0.0057 - accuracy: 0.99 - ETA: 2s - loss: 0.0058 - accuracy: 0.99 - ETA: 2s - loss: 0.0056 - accuracy: 0.99 - ETA: 2s - loss: 0.0057 - accuracy: 0.99 - ETA: 2s - loss: 0.0056 - accuracy: 0.99 - ETA: 2s - loss: 0.0058 - accuracy: 0.99 - ETA: 1s - loss: 0.0056 - accuracy: 0.99 - ETA: 1s - loss: 0.0057 - accuracy: 0.99 - ETA: 1s - loss: 0.0059 - accuracy: 0.99 - ETA: 1s - loss: 0.0058 - accuracy: 0.99 - ETA: 1s - loss: 0.0056 - accuracy: 0.99 - ETA: 0s - loss: 0.0057 - accuracy: 0.99 - ETA: 0s - loss: 0.0056 - accuracy: 0.99 - ETA: 0s - loss: 0.0056 - accuracy: 0.99 - ETA: 0s - loss: 0.0056 - accuracy: 0.99 - ETA: 0s - loss: 0.0056 - accuracy: 0.99 - 6s 95us/sample - loss: 0.0056 - accuracy: 0.9983\n",
      "Epoch 14/20\n",
      "60000/60000 [==============================] - ETA: 5s - loss: 0.0022 - accuracy: 0.99 - ETA: 5s - loss: 0.0030 - accuracy: 0.99 - ETA: 5s - loss: 0.0031 - accuracy: 0.99 - ETA: 4s - loss: 0.0033 - accuracy: 0.99 - ETA: 4s - loss: 0.0036 - accuracy: 0.99 - ETA: 4s - loss: 0.0036 - accuracy: 0.99 - ETA: 4s - loss: 0.0040 - accuracy: 0.99 - ETA: 4s - loss: 0.0040 - accuracy: 0.99 - ETA: 3s - loss: 0.0040 - accuracy: 0.99 - ETA: 3s - loss: 0.0039 - accuracy: 0.99 - ETA: 3s - loss: 0.0037 - accuracy: 0.99 - ETA: 3s - loss: 0.0036 - accuracy: 0.99 - ETA: 3s - loss: 0.0035 - accuracy: 0.99 - ETA: 2s - loss: 0.0038 - accuracy: 0.99 - ETA: 2s - loss: 0.0039 - accuracy: 0.99 - ETA: 2s - loss: 0.0039 - accuracy: 0.99 - ETA: 2s - loss: 0.0038 - accuracy: 0.99 - ETA: 2s - loss: 0.0039 - accuracy: 0.99 - ETA: 2s - loss: 0.0040 - accuracy: 0.99 - ETA: 1s - loss: 0.0040 - accuracy: 0.99 - ETA: 1s - loss: 0.0039 - accuracy: 0.99 - ETA: 1s - loss: 0.0039 - accuracy: 0.99 - ETA: 1s - loss: 0.0038 - accuracy: 0.99 - ETA: 1s - loss: 0.0038 - accuracy: 0.99 - ETA: 0s - loss: 0.0038 - accuracy: 0.99 - ETA: 0s - loss: 0.0038 - accuracy: 0.99 - ETA: 0s - loss: 0.0038 - accuracy: 0.99 - ETA: 0s - loss: 0.0038 - accuracy: 0.99 - ETA: 0s - loss: 0.0038 - accuracy: 0.99 - 6s 94us/sample - loss: 0.0040 - accuracy: 0.9989\n",
      "Epoch 15/20\n",
      "60000/60000 [==============================] - ETA: 5s - loss: 0.0018 - accuracy: 0.99 - ETA: 5s - loss: 0.0021 - accuracy: 0.99 - ETA: 5s - loss: 0.0027 - accuracy: 0.99 - ETA: 4s - loss: 0.0027 - accuracy: 0.99 - ETA: 4s - loss: 0.0026 - accuracy: 0.99 - ETA: 4s - loss: 0.0026 - accuracy: 0.99 - ETA: 4s - loss: 0.0024 - accuracy: 0.99 - ETA: 4s - loss: 0.0025 - accuracy: 0.99 - ETA: 3s - loss: 0.0026 - accuracy: 0.99 - ETA: 3s - loss: 0.0026 - accuracy: 0.99 - ETA: 3s - loss: 0.0027 - accuracy: 0.99 - ETA: 3s - loss: 0.0026 - accuracy: 0.99 - ETA: 3s - loss: 0.0025 - accuracy: 0.99 - ETA: 3s - loss: 0.0025 - accuracy: 0.99 - ETA: 2s - loss: 0.0026 - accuracy: 0.99 - ETA: 2s - loss: 0.0026 - accuracy: 0.99 - ETA: 2s - loss: 0.0025 - accuracy: 0.99 - ETA: 2s - loss: 0.0028 - accuracy: 0.99 - ETA: 2s - loss: 0.0029 - accuracy: 0.99 - ETA: 1s - loss: 0.0030 - accuracy: 0.99 - ETA: 1s - loss: 0.0031 - accuracy: 0.99 - ETA: 1s - loss: 0.0031 - accuracy: 0.99 - ETA: 1s - loss: 0.0031 - accuracy: 0.99 - ETA: 1s - loss: 0.0031 - accuracy: 0.99 - ETA: 0s - loss: 0.0031 - accuracy: 0.99 - ETA: 0s - loss: 0.0032 - accuracy: 0.99 - ETA: 0s - loss: 0.0032 - accuracy: 0.99 - ETA: 0s - loss: 0.0032 - accuracy: 0.99 - ETA: 0s - loss: 0.0032 - accuracy: 0.99 - 6s 94us/sample - loss: 0.0033 - accuracy: 0.9991\n",
      "Epoch 16/20\n",
      "60000/60000 [==============================] - ETA: 5s - loss: 0.0011 - accuracy: 1.00 - ETA: 5s - loss: 0.0016 - accuracy: 0.99 - ETA: 5s - loss: 0.0020 - accuracy: 0.99 - ETA: 4s - loss: 0.0030 - accuracy: 0.99 - ETA: 4s - loss: 0.0027 - accuracy: 0.99 - ETA: 4s - loss: 0.0024 - accuracy: 0.99 - ETA: 4s - loss: 0.0024 - accuracy: 0.99 - ETA: 4s - loss: 0.0023 - accuracy: 0.99 - ETA: 4s - loss: 0.0023 - accuracy: 0.99 - ETA: 3s - loss: 0.0023 - accuracy: 0.99 - ETA: 3s - loss: 0.0022 - accuracy: 0.99 - ETA: 3s - loss: 0.0024 - accuracy: 0.99 - ETA: 3s - loss: 0.0023 - accuracy: 0.99 - ETA: 3s - loss: 0.0025 - accuracy: 0.99 - ETA: 2s - loss: 0.0026 - accuracy: 0.99 - ETA: 2s - loss: 0.0027 - accuracy: 0.99 - ETA: 2s - loss: 0.0028 - accuracy: 0.99 - ETA: 2s - loss: 0.0027 - accuracy: 0.99 - ETA: 2s - loss: 0.0029 - accuracy: 0.99 - ETA: 1s - loss: 0.0032 - accuracy: 0.99 - ETA: 1s - loss: 0.0031 - accuracy: 0.99 - ETA: 1s - loss: 0.0032 - accuracy: 0.99 - ETA: 1s - loss: 0.0031 - accuracy: 0.99 - ETA: 1s - loss: 0.0032 - accuracy: 0.99 - ETA: 0s - loss: 0.0032 - accuracy: 0.99 - ETA: 0s - loss: 0.0032 - accuracy: 0.99 - ETA: 0s - loss: 0.0032 - accuracy: 0.99 - ETA: 0s - loss: 0.0032 - accuracy: 0.99 - ETA: 0s - loss: 0.0032 - accuracy: 0.99 - 6s 95us/sample - loss: 0.0032 - accuracy: 0.9992\n",
      "Epoch 17/20\n",
      "60000/60000 [==============================] - ETA: 5s - loss: 0.0039 - accuracy: 0.99 - ETA: 5s - loss: 0.0033 - accuracy: 0.99 - ETA: 5s - loss: 0.0047 - accuracy: 0.99 - ETA: 4s - loss: 0.0041 - accuracy: 0.99 - ETA: 4s - loss: 0.0046 - accuracy: 0.99 - ETA: 4s - loss: 0.0047 - accuracy: 0.99 - ETA: 4s - loss: 0.0042 - accuracy: 0.99 - ETA: 4s - loss: 0.0039 - accuracy: 0.99 - ETA: 3s - loss: 0.0037 - accuracy: 0.99 - ETA: 3s - loss: 0.0036 - accuracy: 0.99 - ETA: 3s - loss: 0.0036 - accuracy: 0.99 - ETA: 3s - loss: 0.0034 - accuracy: 0.99 - ETA: 3s - loss: 0.0036 - accuracy: 0.99 - ETA: 3s - loss: 0.0036 - accuracy: 0.99 - ETA: 2s - loss: 0.0034 - accuracy: 0.99 - ETA: 2s - loss: 0.0037 - accuracy: 0.99 - ETA: 2s - loss: 0.0037 - accuracy: 0.99 - ETA: 2s - loss: 0.0037 - accuracy: 0.99 - ETA: 2s - loss: 0.0036 - accuracy: 0.99 - ETA: 1s - loss: 0.0036 - accuracy: 0.99 - ETA: 1s - loss: 0.0035 - accuracy: 0.99 - ETA: 1s - loss: 0.0037 - accuracy: 0.99 - ETA: 1s - loss: 0.0037 - accuracy: 0.99 - ETA: 1s - loss: 0.0037 - accuracy: 0.99 - ETA: 0s - loss: 0.0036 - accuracy: 0.99 - ETA: 0s - loss: 0.0036 - accuracy: 0.99 - ETA: 0s - loss: 0.0037 - accuracy: 0.99 - ETA: 0s - loss: 0.0037 - accuracy: 0.99 - ETA: 0s - loss: 0.0036 - accuracy: 0.99 - 6s 94us/sample - loss: 0.0035 - accuracy: 0.9988\n",
      "Epoch 18/20\n",
      "60000/60000 [==============================] - ETA: 5s - loss: 0.0035 - accuracy: 0.99 - ETA: 5s - loss: 0.0041 - accuracy: 0.99 - ETA: 4s - loss: 0.0033 - accuracy: 0.99 - ETA: 4s - loss: 0.0032 - accuracy: 0.99 - ETA: 4s - loss: 0.0035 - accuracy: 0.99 - ETA: 4s - loss: 0.0037 - accuracy: 0.99 - ETA: 4s - loss: 0.0038 - accuracy: 0.99 - ETA: 4s - loss: 0.0037 - accuracy: 0.99 - ETA: 3s - loss: 0.0037 - accuracy: 0.99 - ETA: 3s - loss: 0.0041 - accuracy: 0.99 - ETA: 3s - loss: 0.0039 - accuracy: 0.99 - ETA: 3s - loss: 0.0038 - accuracy: 0.99 - ETA: 3s - loss: 0.0040 - accuracy: 0.99 - ETA: 3s - loss: 0.0042 - accuracy: 0.99 - ETA: 2s - loss: 0.0042 - accuracy: 0.99 - ETA: 2s - loss: 0.0040 - accuracy: 0.99 - ETA: 2s - loss: 0.0039 - accuracy: 0.99 - ETA: 2s - loss: 0.0043 - accuracy: 0.99 - ETA: 2s - loss: 0.0044 - accuracy: 0.99 - ETA: 1s - loss: 0.0043 - accuracy: 0.99 - ETA: 1s - loss: 0.0043 - accuracy: 0.99 - ETA: 1s - loss: 0.0044 - accuracy: 0.99 - ETA: 1s - loss: 0.0043 - accuracy: 0.99 - ETA: 1s - loss: 0.0045 - accuracy: 0.99 - ETA: 0s - loss: 0.0045 - accuracy: 0.99 - ETA: 0s - loss: 0.0044 - accuracy: 0.99 - ETA: 0s - loss: 0.0045 - accuracy: 0.99 - ETA: 0s - loss: 0.0045 - accuracy: 0.99 - ETA: 0s - loss: 0.0044 - accuracy: 0.99 - 6s 95us/sample - loss: 0.0043 - accuracy: 0.9986\n",
      "Epoch 19/20\n"
     ]
    },
    {
     "name": "stdout",
     "output_type": "stream",
     "text": [
      "60000/60000 [==============================] - ETA: 5s - loss: 0.0013 - accuracy: 1.00 - ETA: 5s - loss: 0.0010 - accuracy: 1.00 - ETA: 5s - loss: 0.0016 - accuracy: 0.99 - ETA: 4s - loss: 0.0026 - accuracy: 0.99 - ETA: 4s - loss: 0.0035 - accuracy: 0.99 - ETA: 4s - loss: 0.0035 - accuracy: 0.99 - ETA: 4s - loss: 0.0034 - accuracy: 0.99 - ETA: 4s - loss: 0.0036 - accuracy: 0.99 - ETA: 3s - loss: 0.0036 - accuracy: 0.99 - ETA: 3s - loss: 0.0036 - accuracy: 0.99 - ETA: 3s - loss: 0.0035 - accuracy: 0.99 - ETA: 3s - loss: 0.0034 - accuracy: 0.99 - ETA: 3s - loss: 0.0034 - accuracy: 0.99 - ETA: 2s - loss: 0.0036 - accuracy: 0.99 - ETA: 2s - loss: 0.0037 - accuracy: 0.99 - ETA: 2s - loss: 0.0036 - accuracy: 0.99 - ETA: 2s - loss: 0.0036 - accuracy: 0.99 - ETA: 2s - loss: 0.0036 - accuracy: 0.99 - ETA: 2s - loss: 0.0036 - accuracy: 0.99 - ETA: 1s - loss: 0.0037 - accuracy: 0.99 - ETA: 1s - loss: 0.0037 - accuracy: 0.99 - ETA: 1s - loss: 0.0038 - accuracy: 0.99 - ETA: 1s - loss: 0.0038 - accuracy: 0.99 - ETA: 1s - loss: 0.0039 - accuracy: 0.99 - ETA: 0s - loss: 0.0041 - accuracy: 0.99 - ETA: 0s - loss: 0.0041 - accuracy: 0.99 - ETA: 0s - loss: 0.0042 - accuracy: 0.99 - ETA: 0s - loss: 0.0041 - accuracy: 0.99 - ETA: 0s - loss: 0.0042 - accuracy: 0.99 - 6s 94us/sample - loss: 0.0041 - accuracy: 0.9986\n",
      "Epoch 20/20\n",
      "60000/60000 [==============================] - ETA: 5s - loss: 0.0026 - accuracy: 0.99 - ETA: 5s - loss: 0.0063 - accuracy: 0.99 - ETA: 5s - loss: 0.0064 - accuracy: 0.99 - ETA: 4s - loss: 0.0051 - accuracy: 0.99 - ETA: 4s - loss: 0.0044 - accuracy: 0.99 - ETA: 4s - loss: 0.0043 - accuracy: 0.99 - ETA: 4s - loss: 0.0041 - accuracy: 0.99 - ETA: 4s - loss: 0.0044 - accuracy: 0.99 - ETA: 3s - loss: 0.0045 - accuracy: 0.99 - ETA: 3s - loss: 0.0045 - accuracy: 0.99 - ETA: 3s - loss: 0.0047 - accuracy: 0.99 - ETA: 3s - loss: 0.0048 - accuracy: 0.99 - ETA: 3s - loss: 0.0045 - accuracy: 0.99 - ETA: 2s - loss: 0.0045 - accuracy: 0.99 - ETA: 2s - loss: 0.0044 - accuracy: 0.99 - ETA: 2s - loss: 0.0045 - accuracy: 0.99 - ETA: 2s - loss: 0.0046 - accuracy: 0.99 - ETA: 2s - loss: 0.0044 - accuracy: 0.99 - ETA: 2s - loss: 0.0045 - accuracy: 0.99 - ETA: 1s - loss: 0.0045 - accuracy: 0.99 - ETA: 1s - loss: 0.0044 - accuracy: 0.99 - ETA: 1s - loss: 0.0046 - accuracy: 0.99 - ETA: 1s - loss: 0.0044 - accuracy: 0.99 - ETA: 1s - loss: 0.0044 - accuracy: 0.99 - ETA: 0s - loss: 0.0044 - accuracy: 0.99 - ETA: 0s - loss: 0.0043 - accuracy: 0.99 - ETA: 0s - loss: 0.0044 - accuracy: 0.99 - ETA: 0s - loss: 0.0044 - accuracy: 0.99 - ETA: 0s - loss: 0.0043 - accuracy: 0.99 - 6s 94us/sample - loss: 0.0044 - accuracy: 0.9987\n"
     ]
    },
    {
     "data": {
      "text/plain": [
       "<tensorflow.python.keras.callbacks.History at 0x21c81a6ac88>"
      ]
     },
     "execution_count": 13,
     "metadata": {},
     "output_type": "execute_result"
    }
   ],
   "source": [
    "cnn_model.fit(train_images, train_labels, batch_size=BATCH_SIZE, epochs=EPOCHS)\n"
   ]
  },
  {
   "cell_type": "markdown",
   "metadata": {
    "colab_type": "text",
    "id": "u__rnEL6hKEf"
   },
   "source": [
    "Make predictions with the CNN model\n",
    "With the model trained, we can use it to make predictions about some images. The predict function call generates the output predictions given a set of input samples."
   ]
  },
  {
   "cell_type": "code",
   "execution_count": 14,
   "metadata": {
    "colab": {},
    "colab_type": "code",
    "id": "11WhJN4IhMsD"
   },
   "outputs": [],
   "source": [
    "predictions = cnn_model.predict(test_images)"
   ]
  },
  {
   "cell_type": "markdown",
   "metadata": {
    "colab_type": "text",
    "id": "MZg8HL9Sh2NF"
   },
   "source": [
    "With this function call, the model has predicted the label for each image in the testing set. Let's take a look at the prediction for the first image in the test dataset"
   ]
  },
  {
   "cell_type": "code",
   "execution_count": 15,
   "metadata": {
    "colab": {},
    "colab_type": "code",
    "id": "xA3aZ0Vehz3_"
   },
   "outputs": [
    {
     "data": {
      "text/plain": [
       "array([2.50325802e-11, 1.21390450e-11, 1.82668702e-09, 1.61304355e-11,\n",
       "       1.84476090e-09, 3.92016301e-14, 1.07246175e-17, 1.00000000e+00,\n",
       "       3.38905813e-12, 2.47058589e-11], dtype=float32)"
      ]
     },
     "execution_count": 15,
     "metadata": {},
     "output_type": "execute_result"
    }
   ],
   "source": [
    "predictions[0]"
   ]
  },
  {
   "cell_type": "markdown",
   "metadata": {
    "colab_type": "text",
    "id": "Vpqpn-3mhN8s"
   },
   "source": [
    "As you can see, a prediction is an array of 10 numbers. Recall that the output of our model is a probability distribution over the 10 digit classes. Thus, these numbers describe the model's \"confidence\" that the image corresponds to each of the 10 different digits.\n",
    "\n",
    "Let's look at the digit that has the highest confidence for the first image in the test dataset:"
   ]
  },
  {
   "cell_type": "code",
   "execution_count": 16,
   "metadata": {
    "colab": {},
    "colab_type": "code",
    "id": "oNtImzkRhQCK"
   },
   "outputs": [
    {
     "name": "stdout",
     "output_type": "stream",
     "text": [
      "7\n"
     ]
    }
   ],
   "source": [
    "#We know identigy the digit with the highest confidence prediction for the first image in the test dataset. \n",
    "prediction = np.argmax(predictions[0]) \n",
    "\n",
    "\n",
    "print(prediction)"
   ]
  },
  {
   "cell_type": "markdown",
   "metadata": {
    "colab_type": "text",
    "id": "vTbQM6YriMPX"
   },
   "source": [
    "So, the model is most confident that this image is a \"(?)\". (find out) \n",
    "We can check the test label (remember, this is the true identity of the digit) to see if this prediction is correct:"
   ]
  },
  {
   "cell_type": "code",
   "execution_count": 17,
   "metadata": {
    "colab": {},
    "colab_type": "code",
    "id": "CA_uGDzEiMm1"
   },
   "outputs": [
    {
     "name": "stdout",
     "output_type": "stream",
     "text": [
      "Label of this digit is: 7\n"
     ]
    },
    {
     "data": {
      "text/plain": [
       "<matplotlib.image.AxesImage at 0x21c806e9a08>"
      ]
     },
     "execution_count": 17,
     "metadata": {},
     "output_type": "execute_result"
    },
    {
     "data": {
      "image/png": "[encoded data removed]",
      "text/plain": [
       "<Figure size 432x288 with 1 Axes>"
      ]
     },
     "metadata": {
      "needs_background": "light"
     },
     "output_type": "display_data"
    }
   ],
   "source": [
    "print(\"Label of this digit is:\", test_labels[0])\n",
    "plt.imshow(test_images[0,:,:,0], cmap=plt.cm.binary)"
   ]
  },
  {
   "cell_type": "code",
   "execution_count": 18,
   "metadata": {
    "colab": {},
    "colab_type": "code",
    "id": "HCKCbW11iYzq"
   },
   "outputs": [],
   "source": [
    "def plot_image_prediction(i, predictions_array, true_label, img):\n",
    "  predictions_array, true_label, img = predictions_array[i], true_label[i], img[i]\n",
    "  plt.grid(False)\n",
    "  plt.xticks([])\n",
    "  plt.yticks([])\n",
    "\n",
    "  plt.imshow(np.squeeze(img), cmap=plt.cm.binary)\n",
    "\n",
    "  predicted_label = np.argmax(predictions_array)\n",
    "  if predicted_label == true_label:\n",
    "    color = 'blue'\n",
    "  else:\n",
    "    color = 'red'\n",
    "\n",
    "  plt.xlabel(\"{} {:2.0f}% ({})\".format(predicted_label,\n",
    "                                100*np.max(predictions_array),\n",
    "                                true_label),\n",
    "                                color=color)\n",
    "\n",
    "def plot_value_prediction(i, predictions_array, true_label):\n",
    "  predictions_array, true_label = predictions_array[i], true_label[i]\n",
    "  plt.grid(False)\n",
    "  plt.xticks([])\n",
    "  plt.yticks([])\n",
    "  thisplot = plt.bar(range(10), predictions_array, color=\"#777777\")\n",
    "  plt.ylim([0, 1])\n",
    "  predicted_label = np.argmax(predictions_array)\n",
    "\n",
    "  thisplot[predicted_label].set_color('red')\n",
    "  thisplot[true_label].set_color('blue')\n",
    "\n"
   ]
  },
  {
   "cell_type": "code",
   "execution_count": 29,
   "metadata": {
    "colab": {},
    "colab_type": "code",
    "id": "tPH8eULmjLYa"
   },
   "outputs": [
    {
     "data": {
      "image/png": "[encoded data removed]",
      "text/plain": [
       "<Figure size 432x288 with 2 Axes>"
      ]
     },
     "metadata": {},
     "output_type": "display_data"
    }
   ],
   "source": [
    "image_index = 18 #@param {type:\"slider\", min:0, max:100, step:1}\n",
    "plt.subplot(1,2,1)\n",
    "plot_image_prediction(image_index, predictions, test_labels, test_images)\n",
    "plt.subplot(1,2,2)\n",
    "plot_value_prediction(image_index, predictions,  test_labels)"
   ]
  },
  {
   "cell_type": "markdown",
   "metadata": {
    "colab_type": "text",
    "id": "JvV_SDu1j25X"
   },
   "source": [
    "We can also plot several images along with their predictions, where correct prediction labels are blue and incorrect prediction labels are red. The number gives the percent confidence (out of 100) for the predicted label. Note the model can be very confident in an incorrect prediction!"
   ]
  },
  {
   "cell_type": "code",
   "execution_count": 21,
   "metadata": {
    "colab": {},
    "colab_type": "code",
    "id": "C9IGoLT0jz9H"
   },
   "outputs": [
    {
     "data": {
      "image/png": "[encoded data removed]",
      "text/plain": [
       "<Figure size 1152x720 with 40 Axes>"
      ]
     },
     "metadata": {},
     "output_type": "display_data"
    }
   ],
   "source": [
    "# Plots the first X test images, their predicted label, and the true label\n",
    "# Color correct predictions in blue, incorrect predictions in red\n",
    "num_rows = 5\n",
    "num_cols = 4\n",
    "num_images = num_rows*num_cols\n",
    "plt.figure(figsize=(2*2*num_cols, 2*num_rows))\n",
    "for i in range(num_images):\n",
    "  plt.subplot(num_rows, 2*num_cols, 2*i+1)\n",
    "  plot_image_prediction(i, predictions, test_labels, test_images)\n",
    "  plt.subplot(num_rows, 2*num_cols, 2*i+2)\n",
    "  plot_value_prediction(i, predictions, test_labels)"
   ]
  },
  {
   "cell_type": "markdown",
   "metadata": {},
   "source": [
    "### 2. Answers\n",
    "#### a. What is the digit that has the highest confidence for the second image in the dataset?\n",
    "    It seems all digits have the highest confidence except digit 3 in our dataset.\n",
    "#### b. How do you think this CNN model could be improved? Why?\n",
    "    I think we can add more layers to the model for deeper learning."
   ]
  },
  {
   "cell_type": "markdown",
   "metadata": {
    "colab_type": "text",
    "id": "8ncRLi2dOQ1W"
   },
   "source": [
    "# Part 3: Save model and convert to TensorFlow Lite\n",
    "\n"
   ]
  },
  {
   "cell_type": "code",
   "execution_count": 22,
   "metadata": {
    "colab": {},
    "colab_type": "code",
    "id": "ofHmJ-88pEUJ"
   },
   "outputs": [
    {
     "name": "stdout",
     "output_type": "stream",
     "text": [
      "Float model size = 489KBs.\n"
     ]
    }
   ],
   "source": [
    "# Convert Keras model to TF Lite format.\n",
    "converter = tf.lite.TFLiteConverter.from_keras_model(cnn_model)\n",
    "#Give the model your group number if you want to get points for your assignment grade\n",
    "#The colde below is made for a group number 99 - change that for your group number\n",
    "model_group5 = converter.convert()\n",
    "\n",
    "# Show model size in KBs.\n",
    "float_model_size = len(model_group5) / 1024\n",
    "print('Float model size = %dKBs.' % float_model_size)"
   ]
  },
  {
   "cell_type": "code",
   "execution_count": 25,
   "metadata": {
    "colab": {},
    "colab_type": "code",
    "id": "FADyua2zpYEo"
   },
   "outputs": [
    {
     "name": "stdout",
     "output_type": "stream",
     "text": [
      "Quantized model size = 125KBs,\n",
      "which is about 25% of the float model size.\n"
     ]
    }
   ],
   "source": [
    "# Re-convert the model to TF Lite using quantization.\n",
    "converter.optimizations = [tf.lite.Optimize.DEFAULT]\n",
    "model_group5_quant = converter.convert()\n",
    "\n",
    "# Show model size in KBs.\n",
    "quantized_model_size = len(model_model_group5_quant) / 1024\n",
    "print('Quantized model size = %dKBs,' % quantized_model_size)\n",
    "print('which is about %d%% of the float model size.'\\\n",
    "      % (quantized_model_size * 100 / float_model_size))"
   ]
  },
  {
   "cell_type": "code",
   "execution_count": 28,
   "metadata": {
    "colab": {},
    "colab_type": "code",
    "id": "-W0Xt2erpa6z"
   },
   "outputs": [
    {
     "name": "stdout",
     "output_type": "stream",
     "text": [
      "`model_group5_quant.tflite` has been downloaded\n"
     ]
    }
   ],
   "source": [
    "# Save the quantized model to file to the Downloads directory\n",
    "f = open('model_group5_Q.tflite', \"wb\")\n",
    "f.write(model_group5_quant)\n",
    "f.close()\n",
    "\n",
    "# Download the digit classification model\n",
    "# from google.colab import files\n",
    "# files.download('model_group5_Q.tflite')\n",
    "\n",
    "print('`model_group5_quant.tflite` has been downloaded')"
   ]
  },
  {
   "cell_type": "markdown",
   "metadata": {
    "colab_type": "text",
    "id": "bpkTfRWBK0Z9"
   },
   "source": [
    "# Part 4: Android App -> Discussed in class\n",
    "\n",
    "\n",
    "\n"
   ]
  }
 ],
 "metadata": {
  "accelerator": "GPU",
  "colab": {
   "collapsed_sections": [
    "79BYVJ5GTMa3",
    "ej4yau8dKsBl",
    "yXDAnahdeVOd",
    "8ncRLi2dOQ1W"
   ],
   "name": "digitRecognition_week5.ipynb",
   "provenance": []
  },
  "kernelspec": {
   "display_name": "Python 3",
   "language": "python",
   "name": "python3"
  },
  "language_info": {
   "codemirror_mode": {
    "name": "ipython",
    "version": 3
   },
   "file_extension": ".py",
   "mimetype": "text/x-python",
   "name": "python",
   "nbconvert_exporter": "python",
   "pygments_lexer": "ipython3",
   "version": "3.7.4"
  }
 },
 "nbformat": 4,
 "nbformat_minor": 1
}
